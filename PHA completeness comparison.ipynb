{
 "cells": [
  {
   "cell_type": "code",
   "execution_count": 1,
   "metadata": {
    "collapsed": false
   },
   "outputs": [],
   "source": [
    "import os\n",
    "import numpy as np\n",
    "import pandas as pd\n",
    "from lsst.sims.maf.db import ResultsDb\n",
    "from IPython.display import display, HTML"
   ]
  },
  {
   "cell_type": "code",
   "execution_count": 2,
   "metadata": {
    "collapsed": true
   },
   "outputs": [],
   "source": [
    "newruns = ['minion_1016',\n",
    "           'astro_lsst_01_1016',\n",
    "           'astro_lsst_01_1015',\n",
    "           'astro_lsst_01_1017']\n",
    "#oldruns = ['enigma_1189', 'minion_1016', 'enigma_1281', 'enigma_1282']"
   ]
  },
  {
   "cell_type": "code",
   "execution_count": 3,
   "metadata": {
    "collapsed": false
   },
   "outputs": [],
   "source": [
    "pha_new = {}\n",
    "neo_new = {}\n",
    "for r in newruns:\n",
    "    pha_new[r] = ResultsDb(os.path.join('.', r, 'phas_2k_newsky'))\n",
    "    neo_new[r] = ResultsDb(os.path.join('.', r, 'neo_newsky'))"
   ]
  },
  {
   "cell_type": "code",
   "execution_count": 4,
   "metadata": {
    "collapsed": false
   },
   "outputs": [],
   "source": [
    "def make_dataframe(runs, runlist, metricName='CumulativeCompleteness'):\n",
    "    summary = []\n",
    "    for r in runlist:\n",
    "        mId = runs[r].getMetricId(metricName)\n",
    "        s = runs[r].getSummaryStats(mId, summaryName=None)\n",
    "        summary.append(pd.DataFrame(zip(s['metricMetadata'], s['summaryValue']*100.0), columns=['metadata', r]))\n",
    "    df = summary[0]\n",
    "    for i in range(1, len(summary)):\n",
    "        df = pd.merge(df, summary[i], how='outer', on='metadata')\n",
    "    return df"
   ]
  },
  {
   "cell_type": "code",
   "execution_count": 6,
   "metadata": {
    "collapsed": false
   },
   "outputs": [],
   "source": [
    "pha_new_df = make_dataframe(pha_new, newruns)\n",
    "neo_new_df = make_dataframe(neo_new, newruns)"
   ]
  },
  {
   "cell_type": "code",
   "execution_count": 7,
   "metadata": {
    "collapsed": true
   },
   "outputs": [],
   "source": [
    "def show_match(metadata, df):\n",
    "    display(df[df.metadata.str.contains(metadata)])"
   ]
  },
  {
   "cell_type": "code",
   "execution_count": 8,
   "metadata": {
    "collapsed": true
   },
   "outputs": [],
   "source": [
    "def show_diff(metadata1, metadata2, df):\n",
    "    runnames = list(df.columns.values)\n",
    "    runnames.remove('metadata')\n",
    "    d = (df[df.metadata.str.contains(metadata2)][runnames].as_matrix() - \n",
    "         df[df.metadata.str.contains(metadata1)][runnames].as_matrix())\n",
    "    diff = pd.DataFrame(d, columns=runnames)\n",
    "    diff['average'] = np.nanmean(d)\n",
    "    print \"Going from %s to %s:\" % (metadata1, metadata2)\n",
    "    display(diff)"
   ]
  },
  {
   "cell_type": "code",
   "execution_count": 9,
   "metadata": {
    "collapsed": false
   },
   "outputs": [
    {
     "data": {
      "text/html": [
       "<div>\n",
       "<table border=\"1\" class=\"dataframe\">\n",
       "  <thead>\n",
       "    <tr style=\"text-align: right;\">\n",
       "      <th></th>\n",
       "      <th>metadata</th>\n",
       "      <th>minion_1016</th>\n",
       "      <th>astro_lsst_01_1016</th>\n",
       "      <th>astro_lsst_01_1015</th>\n",
       "      <th>astro_lsst_01_1017</th>\n",
       "    </tr>\n",
       "  </thead>\n",
       "  <tbody>\n",
       "    <tr>\n",
       "      <th>19</th>\n",
       "      <td>PHA 3 pairs in 15 nights yr 10</td>\n",
       "      <td>65.55878</td>\n",
       "      <td>66.108125</td>\n",
       "      <td>63.248324</td>\n",
       "      <td>66.50123</td>\n",
       "    </tr>\n",
       "  </tbody>\n",
       "</table>\n",
       "</div>"
      ],
      "text/plain": [
       "                          metadata  minion_1016  astro_lsst_01_1016  \\\n",
       "19  PHA 3 pairs in 15 nights yr 10     65.55878           66.108125   \n",
       "\n",
       "    astro_lsst_01_1015  astro_lsst_01_1017  \n",
       "19           63.248324            66.50123  "
      ]
     },
     "metadata": {},
     "output_type": "display_data"
    },
    {
     "data": {
      "text/html": [
       "<div>\n",
       "<table border=\"1\" class=\"dataframe\">\n",
       "  <thead>\n",
       "    <tr style=\"text-align: right;\">\n",
       "      <th></th>\n",
       "      <th>metadata</th>\n",
       "      <th>minion_1016</th>\n",
       "      <th>astro_lsst_01_1016</th>\n",
       "      <th>astro_lsst_01_1015</th>\n",
       "      <th>astro_lsst_01_1017</th>\n",
       "    </tr>\n",
       "  </thead>\n",
       "  <tbody>\n",
       "    <tr>\n",
       "      <th>61</th>\n",
       "      <td>PHA 3 pairs in 30 nights yr 10</td>\n",
       "      <td>68.362613</td>\n",
       "      <td>69.799107</td>\n",
       "      <td>67.513962</td>\n",
       "      <td>70.287272</td>\n",
       "    </tr>\n",
       "  </tbody>\n",
       "</table>\n",
       "</div>"
      ],
      "text/plain": [
       "                          metadata  minion_1016  astro_lsst_01_1016  \\\n",
       "61  PHA 3 pairs in 30 nights yr 10    68.362613           69.799107   \n",
       "\n",
       "    astro_lsst_01_1015  astro_lsst_01_1017  \n",
       "61           67.513962           70.287272  "
      ]
     },
     "metadata": {},
     "output_type": "display_data"
    },
    {
     "name": "stdout",
     "output_type": "stream",
     "text": [
      "Going from 3 pairs in 15 nights yr 10 to 3 pairs in 30 nights yr 10:\n"
     ]
    },
    {
     "data": {
      "text/html": [
       "<div>\n",
       "<table border=\"1\" class=\"dataframe\">\n",
       "  <thead>\n",
       "    <tr style=\"text-align: right;\">\n",
       "      <th></th>\n",
       "      <th>minion_1016</th>\n",
       "      <th>astro_lsst_01_1016</th>\n",
       "      <th>astro_lsst_01_1015</th>\n",
       "      <th>astro_lsst_01_1017</th>\n",
       "      <th>average</th>\n",
       "    </tr>\n",
       "  </thead>\n",
       "  <tbody>\n",
       "    <tr>\n",
       "      <th>0</th>\n",
       "      <td>2.803833</td>\n",
       "      <td>3.690982</td>\n",
       "      <td>4.265638</td>\n",
       "      <td>3.786042</td>\n",
       "      <td>3.636624</td>\n",
       "    </tr>\n",
       "  </tbody>\n",
       "</table>\n",
       "</div>"
      ],
      "text/plain": [
       "   minion_1016  astro_lsst_01_1016  astro_lsst_01_1015  astro_lsst_01_1017  \\\n",
       "0     2.803833            3.690982            4.265638            3.786042   \n",
       "\n",
       "    average  \n",
       "0  3.636624  "
      ]
     },
     "metadata": {},
     "output_type": "display_data"
    },
    {
     "data": {
      "text/html": [
       "<div>\n",
       "<table border=\"1\" class=\"dataframe\">\n",
       "  <thead>\n",
       "    <tr style=\"text-align: right;\">\n",
       "      <th></th>\n",
       "      <th>metadata</th>\n",
       "      <th>minion_1016</th>\n",
       "      <th>astro_lsst_01_1016</th>\n",
       "      <th>astro_lsst_01_1015</th>\n",
       "      <th>astro_lsst_01_1017</th>\n",
       "    </tr>\n",
       "  </thead>\n",
       "  <tbody>\n",
       "    <tr>\n",
       "      <th>129</th>\n",
       "      <td>PHA 3 pairs in 15 nights yr 12</td>\n",
       "      <td>NaN</td>\n",
       "      <td>70.518929</td>\n",
       "      <td>67.343787</td>\n",
       "      <td>70.150929</td>\n",
       "    </tr>\n",
       "  </tbody>\n",
       "</table>\n",
       "</div>"
      ],
      "text/plain": [
       "                           metadata  minion_1016  astro_lsst_01_1016  \\\n",
       "129  PHA 3 pairs in 15 nights yr 12          NaN           70.518929   \n",
       "\n",
       "     astro_lsst_01_1015  astro_lsst_01_1017  \n",
       "129           67.343787           70.150929  "
      ]
     },
     "metadata": {},
     "output_type": "display_data"
    },
    {
     "name": "stdout",
     "output_type": "stream",
     "text": [
      "Going from 3 pairs in 15 nights yr 10 to 3 pairs in 15 nights yr 12:\n"
     ]
    },
    {
     "data": {
      "text/html": [
       "<div>\n",
       "<table border=\"1\" class=\"dataframe\">\n",
       "  <thead>\n",
       "    <tr style=\"text-align: right;\">\n",
       "      <th></th>\n",
       "      <th>minion_1016</th>\n",
       "      <th>astro_lsst_01_1016</th>\n",
       "      <th>astro_lsst_01_1015</th>\n",
       "      <th>astro_lsst_01_1017</th>\n",
       "      <th>average</th>\n",
       "    </tr>\n",
       "  </thead>\n",
       "  <tbody>\n",
       "    <tr>\n",
       "      <th>0</th>\n",
       "      <td>NaN</td>\n",
       "      <td>4.410805</td>\n",
       "      <td>4.095463</td>\n",
       "      <td>3.649699</td>\n",
       "      <td>4.051989</td>\n",
       "    </tr>\n",
       "  </tbody>\n",
       "</table>\n",
       "</div>"
      ],
      "text/plain": [
       "   minion_1016  astro_lsst_01_1016  astro_lsst_01_1015  astro_lsst_01_1017  \\\n",
       "0          NaN            4.410805            4.095463            3.649699   \n",
       "\n",
       "    average  \n",
       "0  4.051989  "
      ]
     },
     "metadata": {},
     "output_type": "display_data"
    },
    {
     "data": {
      "text/html": [
       "<div>\n",
       "<table border=\"1\" class=\"dataframe\">\n",
       "  <thead>\n",
       "    <tr style=\"text-align: right;\">\n",
       "      <th></th>\n",
       "      <th>metadata</th>\n",
       "      <th>minion_1016</th>\n",
       "      <th>astro_lsst_01_1016</th>\n",
       "      <th>astro_lsst_01_1015</th>\n",
       "      <th>astro_lsst_01_1017</th>\n",
       "    </tr>\n",
       "  </thead>\n",
       "  <tbody>\n",
       "    <tr>\n",
       "      <th>150</th>\n",
       "      <td>PHA 3 pairs in 30 nights yr 12</td>\n",
       "      <td>NaN</td>\n",
       "      <td>73.901843</td>\n",
       "      <td>71.703517</td>\n",
       "      <td>73.788041</td>\n",
       "    </tr>\n",
       "  </tbody>\n",
       "</table>\n",
       "</div>"
      ],
      "text/plain": [
       "                           metadata  minion_1016  astro_lsst_01_1016  \\\n",
       "150  PHA 3 pairs in 30 nights yr 12          NaN           73.901843   \n",
       "\n",
       "     astro_lsst_01_1015  astro_lsst_01_1017  \n",
       "150           71.703517           73.788041  "
      ]
     },
     "metadata": {},
     "output_type": "display_data"
    },
    {
     "name": "stdout",
     "output_type": "stream",
     "text": [
      "Going from 3 pairs in 15 nights yr 12 to 3 pairs in 30 nights yr 12:\n"
     ]
    },
    {
     "data": {
      "text/html": [
       "<div>\n",
       "<table border=\"1\" class=\"dataframe\">\n",
       "  <thead>\n",
       "    <tr style=\"text-align: right;\">\n",
       "      <th></th>\n",
       "      <th>minion_1016</th>\n",
       "      <th>astro_lsst_01_1016</th>\n",
       "      <th>astro_lsst_01_1015</th>\n",
       "      <th>astro_lsst_01_1017</th>\n",
       "      <th>average</th>\n",
       "    </tr>\n",
       "  </thead>\n",
       "  <tbody>\n",
       "    <tr>\n",
       "      <th>0</th>\n",
       "      <td>NaN</td>\n",
       "      <td>3.382914</td>\n",
       "      <td>4.35973</td>\n",
       "      <td>3.637112</td>\n",
       "      <td>3.793252</td>\n",
       "    </tr>\n",
       "  </tbody>\n",
       "</table>\n",
       "</div>"
      ],
      "text/plain": [
       "   minion_1016  astro_lsst_01_1016  astro_lsst_01_1015  astro_lsst_01_1017  \\\n",
       "0          NaN            3.382914             4.35973            3.637112   \n",
       "\n",
       "    average  \n",
       "0  3.793252  "
      ]
     },
     "metadata": {},
     "output_type": "display_data"
    },
    {
     "data": {
      "text/html": [
       "<div>\n",
       "<table border=\"1\" class=\"dataframe\">\n",
       "  <thead>\n",
       "    <tr style=\"text-align: right;\">\n",
       "      <th></th>\n",
       "      <th>metadata</th>\n",
       "      <th>minion_1016</th>\n",
       "      <th>astro_lsst_01_1016</th>\n",
       "      <th>astro_lsst_01_1015</th>\n",
       "      <th>astro_lsst_01_1017</th>\n",
       "    </tr>\n",
       "  </thead>\n",
       "  <tbody>\n",
       "    <tr>\n",
       "      <th>147</th>\n",
       "      <td>PHA 3 pairs in 30 nights trailing loss yr 12</td>\n",
       "      <td>NaN</td>\n",
       "      <td>74.825595</td>\n",
       "      <td>74.495694</td>\n",
       "      <td>75.752236</td>\n",
       "    </tr>\n",
       "  </tbody>\n",
       "</table>\n",
       "</div>"
      ],
      "text/plain": [
       "                                         metadata  minion_1016  \\\n",
       "147  PHA 3 pairs in 30 nights trailing loss yr 12          NaN   \n",
       "\n",
       "     astro_lsst_01_1016  astro_lsst_01_1015  astro_lsst_01_1017  \n",
       "147           74.825595           74.495694           75.752236  "
      ]
     },
     "metadata": {},
     "output_type": "display_data"
    },
    {
     "name": "stdout",
     "output_type": "stream",
     "text": [
      "Going from 3 pairs in 30 nights yr 12 to 3 pairs in 30 nights trailing loss yr 12:\n"
     ]
    },
    {
     "data": {
      "text/html": [
       "<div>\n",
       "<table border=\"1\" class=\"dataframe\">\n",
       "  <thead>\n",
       "    <tr style=\"text-align: right;\">\n",
       "      <th></th>\n",
       "      <th>minion_1016</th>\n",
       "      <th>astro_lsst_01_1016</th>\n",
       "      <th>astro_lsst_01_1015</th>\n",
       "      <th>astro_lsst_01_1017</th>\n",
       "      <th>average</th>\n",
       "    </tr>\n",
       "  </thead>\n",
       "  <tbody>\n",
       "    <tr>\n",
       "      <th>0</th>\n",
       "      <td>NaN</td>\n",
       "      <td>0.923752</td>\n",
       "      <td>2.792177</td>\n",
       "      <td>1.964195</td>\n",
       "      <td>1.893374</td>\n",
       "    </tr>\n",
       "  </tbody>\n",
       "</table>\n",
       "</div>"
      ],
      "text/plain": [
       "   minion_1016  astro_lsst_01_1016  astro_lsst_01_1015  astro_lsst_01_1017  \\\n",
       "0          NaN            0.923752            2.792177            1.964195   \n",
       "\n",
       "    average  \n",
       "0  1.893374  "
      ]
     },
     "metadata": {},
     "output_type": "display_data"
    },
    {
     "data": {
      "text/html": [
       "<div>\n",
       "<table border=\"1\" class=\"dataframe\">\n",
       "  <thead>\n",
       "    <tr style=\"text-align: right;\">\n",
       "      <th></th>\n",
       "      <th>metadata</th>\n",
       "      <th>minion_1016</th>\n",
       "      <th>astro_lsst_01_1016</th>\n",
       "      <th>astro_lsst_01_1015</th>\n",
       "      <th>astro_lsst_01_1017</th>\n",
       "    </tr>\n",
       "  </thead>\n",
       "  <tbody>\n",
       "    <tr>\n",
       "      <th>156</th>\n",
       "      <td>PHA 3 pairs in 30 nights, SNR=4 yr 12</td>\n",
       "      <td>NaN</td>\n",
       "      <td>77.104934</td>\n",
       "      <td>75.734836</td>\n",
       "      <td>77.1828</td>\n",
       "    </tr>\n",
       "  </tbody>\n",
       "</table>\n",
       "</div>"
      ],
      "text/plain": [
       "                                  metadata  minion_1016  astro_lsst_01_1016  \\\n",
       "156  PHA 3 pairs in 30 nights, SNR=4 yr 12          NaN           77.104934   \n",
       "\n",
       "     astro_lsst_01_1015  astro_lsst_01_1017  \n",
       "156           75.734836             77.1828  "
      ]
     },
     "metadata": {},
     "output_type": "display_data"
    },
    {
     "name": "stdout",
     "output_type": "stream",
     "text": [
      "Going from 3 pairs in 30 nights trailing loss yr 12 to 3 pairs in 30 nights, SNR=4 yr 12:\n"
     ]
    },
    {
     "data": {
      "text/html": [
       "<div>\n",
       "<table border=\"1\" class=\"dataframe\">\n",
       "  <thead>\n",
       "    <tr style=\"text-align: right;\">\n",
       "      <th></th>\n",
       "      <th>minion_1016</th>\n",
       "      <th>astro_lsst_01_1016</th>\n",
       "      <th>astro_lsst_01_1015</th>\n",
       "      <th>astro_lsst_01_1017</th>\n",
       "      <th>average</th>\n",
       "    </tr>\n",
       "  </thead>\n",
       "  <tbody>\n",
       "    <tr>\n",
       "      <th>0</th>\n",
       "      <td>NaN</td>\n",
       "      <td>2.279339</td>\n",
       "      <td>1.239142</td>\n",
       "      <td>1.430564</td>\n",
       "      <td>1.649682</td>\n",
       "    </tr>\n",
       "  </tbody>\n",
       "</table>\n",
       "</div>"
      ],
      "text/plain": [
       "   minion_1016  astro_lsst_01_1016  astro_lsst_01_1015  astro_lsst_01_1017  \\\n",
       "0          NaN            2.279339            1.239142            1.430564   \n",
       "\n",
       "    average  \n",
       "0  1.649682  "
      ]
     },
     "metadata": {},
     "output_type": "display_data"
    }
   ],
   "source": [
    "df = pha_new_df\n",
    "match1 = '3 pairs in 15 nights yr 10'\n",
    "show_match(match1, df)\n",
    "match15 = '3 pairs in 30 nights yr 10'\n",
    "show_match(match15, df)\n",
    "show_diff(match1, match15, df)\n",
    "match2 = '3 pairs in 15 nights yr 12'\n",
    "show_match(match2, df)\n",
    "show_diff(match1, match2, df)\n",
    "\n",
    "match3 = '3 pairs in 30 nights yr 12'\n",
    "show_match(match3, df)\n",
    "show_diff(match2, match3, df)\n",
    "\n",
    "match4 = '3 pairs in 30 nights trailing loss yr 12'\n",
    "show_match(match4, df)\n",
    "show_diff(match3, match4, df)\n",
    "\n",
    "#match5 = '3 pairs in 30 nights trailing loss, SNR=4 yr 12'\n",
    "match5 = '3 pairs in 30 nights, SNR=4 yr 12'\n",
    "show_match(match5, df)\n",
    "show_diff(match4, match5, df)"
   ]
  },
  {
   "cell_type": "code",
   "execution_count": 10,
   "metadata": {
    "collapsed": false
   },
   "outputs": [
    {
     "data": {
      "text/html": [
       "<div>\n",
       "<table border=\"1\" class=\"dataframe\">\n",
       "  <thead>\n",
       "    <tr style=\"text-align: right;\">\n",
       "      <th></th>\n",
       "      <th>metadata</th>\n",
       "      <th>minion_1016</th>\n",
       "      <th>astro_lsst_01_1016</th>\n",
       "      <th>astro_lsst_01_1015</th>\n",
       "      <th>astro_lsst_01_1017</th>\n",
       "    </tr>\n",
       "  </thead>\n",
       "  <tbody>\n",
       "    <tr>\n",
       "      <th>7</th>\n",
       "      <td>NEO 3 pairs in 15 nights yr 10</td>\n",
       "      <td>60.655279</td>\n",
       "      <td>56.811208</td>\n",
       "      <td>57.718595</td>\n",
       "      <td>62.42445</td>\n",
       "    </tr>\n",
       "  </tbody>\n",
       "</table>\n",
       "</div>"
      ],
      "text/plain": [
       "                         metadata  minion_1016  astro_lsst_01_1016  \\\n",
       "7  NEO 3 pairs in 15 nights yr 10    60.655279           56.811208   \n",
       "\n",
       "   astro_lsst_01_1015  astro_lsst_01_1017  \n",
       "7           57.718595            62.42445  "
      ]
     },
     "metadata": {},
     "output_type": "display_data"
    },
    {
     "data": {
      "text/html": [
       "<div>\n",
       "<table border=\"1\" class=\"dataframe\">\n",
       "  <thead>\n",
       "    <tr style=\"text-align: right;\">\n",
       "      <th></th>\n",
       "      <th>metadata</th>\n",
       "      <th>minion_1016</th>\n",
       "      <th>astro_lsst_01_1016</th>\n",
       "      <th>astro_lsst_01_1015</th>\n",
       "      <th>astro_lsst_01_1017</th>\n",
       "    </tr>\n",
       "  </thead>\n",
       "  <tbody>\n",
       "    <tr>\n",
       "      <th>43</th>\n",
       "      <td>NEO 3 pairs in 30 nights yr 10</td>\n",
       "      <td>63.3371</td>\n",
       "      <td>59.595336</td>\n",
       "      <td>61.847965</td>\n",
       "      <td>65.166977</td>\n",
       "    </tr>\n",
       "  </tbody>\n",
       "</table>\n",
       "</div>"
      ],
      "text/plain": [
       "                          metadata  minion_1016  astro_lsst_01_1016  \\\n",
       "43  NEO 3 pairs in 30 nights yr 10      63.3371           59.595336   \n",
       "\n",
       "    astro_lsst_01_1015  astro_lsst_01_1017  \n",
       "43           61.847965           65.166977  "
      ]
     },
     "metadata": {},
     "output_type": "display_data"
    },
    {
     "name": "stdout",
     "output_type": "stream",
     "text": [
      "Going from 3 pairs in 15 nights yr 10 to 3 pairs in 30 nights yr 10:\n"
     ]
    },
    {
     "data": {
      "text/html": [
       "<div>\n",
       "<table border=\"1\" class=\"dataframe\">\n",
       "  <thead>\n",
       "    <tr style=\"text-align: right;\">\n",
       "      <th></th>\n",
       "      <th>minion_1016</th>\n",
       "      <th>astro_lsst_01_1016</th>\n",
       "      <th>astro_lsst_01_1015</th>\n",
       "      <th>astro_lsst_01_1017</th>\n",
       "      <th>average</th>\n",
       "    </tr>\n",
       "  </thead>\n",
       "  <tbody>\n",
       "    <tr>\n",
       "      <th>0</th>\n",
       "      <td>2.681821</td>\n",
       "      <td>2.784128</td>\n",
       "      <td>4.129371</td>\n",
       "      <td>2.742527</td>\n",
       "      <td>3.084462</td>\n",
       "    </tr>\n",
       "  </tbody>\n",
       "</table>\n",
       "</div>"
      ],
      "text/plain": [
       "   minion_1016  astro_lsst_01_1016  astro_lsst_01_1015  astro_lsst_01_1017  \\\n",
       "0     2.681821            2.784128            4.129371            2.742527   \n",
       "\n",
       "    average  \n",
       "0  3.084462  "
      ]
     },
     "metadata": {},
     "output_type": "display_data"
    },
    {
     "data": {
      "text/html": [
       "<div>\n",
       "<table border=\"1\" class=\"dataframe\">\n",
       "  <thead>\n",
       "    <tr style=\"text-align: right;\">\n",
       "      <th></th>\n",
       "      <th>metadata</th>\n",
       "      <th>minion_1016</th>\n",
       "      <th>astro_lsst_01_1016</th>\n",
       "      <th>astro_lsst_01_1015</th>\n",
       "      <th>astro_lsst_01_1017</th>\n",
       "    </tr>\n",
       "  </thead>\n",
       "  <tbody>\n",
       "    <tr>\n",
       "      <th>141</th>\n",
       "      <td>NEO 3 pairs in 15 nights yr 12</td>\n",
       "      <td>NaN</td>\n",
       "      <td>60.41197</td>\n",
       "      <td>61.361651</td>\n",
       "      <td>65.922897</td>\n",
       "    </tr>\n",
       "  </tbody>\n",
       "</table>\n",
       "</div>"
      ],
      "text/plain": [
       "                           metadata  minion_1016  astro_lsst_01_1016  \\\n",
       "141  NEO 3 pairs in 15 nights yr 12          NaN            60.41197   \n",
       "\n",
       "     astro_lsst_01_1015  astro_lsst_01_1017  \n",
       "141           61.361651           65.922897  "
      ]
     },
     "metadata": {},
     "output_type": "display_data"
    },
    {
     "name": "stdout",
     "output_type": "stream",
     "text": [
      "Going from 3 pairs in 15 nights yr 10 to 3 pairs in 15 nights yr 12:\n"
     ]
    },
    {
     "data": {
      "text/html": [
       "<div>\n",
       "<table border=\"1\" class=\"dataframe\">\n",
       "  <thead>\n",
       "    <tr style=\"text-align: right;\">\n",
       "      <th></th>\n",
       "      <th>minion_1016</th>\n",
       "      <th>astro_lsst_01_1016</th>\n",
       "      <th>astro_lsst_01_1015</th>\n",
       "      <th>astro_lsst_01_1017</th>\n",
       "      <th>average</th>\n",
       "    </tr>\n",
       "  </thead>\n",
       "  <tbody>\n",
       "    <tr>\n",
       "      <th>0</th>\n",
       "      <td>NaN</td>\n",
       "      <td>3.600762</td>\n",
       "      <td>3.643056</td>\n",
       "      <td>3.498447</td>\n",
       "      <td>3.580755</td>\n",
       "    </tr>\n",
       "  </tbody>\n",
       "</table>\n",
       "</div>"
      ],
      "text/plain": [
       "   minion_1016  astro_lsst_01_1016  astro_lsst_01_1015  astro_lsst_01_1017  \\\n",
       "0          NaN            3.600762            3.643056            3.498447   \n",
       "\n",
       "    average  \n",
       "0  3.580755  "
      ]
     },
     "metadata": {},
     "output_type": "display_data"
    },
    {
     "data": {
      "text/html": [
       "<div>\n",
       "<table border=\"1\" class=\"dataframe\">\n",
       "  <thead>\n",
       "    <tr style=\"text-align: right;\">\n",
       "      <th></th>\n",
       "      <th>metadata</th>\n",
       "      <th>minion_1016</th>\n",
       "      <th>astro_lsst_01_1016</th>\n",
       "      <th>astro_lsst_01_1015</th>\n",
       "      <th>astro_lsst_01_1017</th>\n",
       "    </tr>\n",
       "  </thead>\n",
       "  <tbody>\n",
       "    <tr>\n",
       "      <th>159</th>\n",
       "      <td>NEO 3 pairs in 30 nights yr 12</td>\n",
       "      <td>NaN</td>\n",
       "      <td>63.139089</td>\n",
       "      <td>65.518469</td>\n",
       "      <td>68.662914</td>\n",
       "    </tr>\n",
       "  </tbody>\n",
       "</table>\n",
       "</div>"
      ],
      "text/plain": [
       "                           metadata  minion_1016  astro_lsst_01_1016  \\\n",
       "159  NEO 3 pairs in 30 nights yr 12          NaN           63.139089   \n",
       "\n",
       "     astro_lsst_01_1015  astro_lsst_01_1017  \n",
       "159           65.518469           68.662914  "
      ]
     },
     "metadata": {},
     "output_type": "display_data"
    },
    {
     "name": "stdout",
     "output_type": "stream",
     "text": [
      "Going from 3 pairs in 15 nights yr 12 to 3 pairs in 30 nights yr 12:\n"
     ]
    },
    {
     "data": {
      "text/html": [
       "<div>\n",
       "<table border=\"1\" class=\"dataframe\">\n",
       "  <thead>\n",
       "    <tr style=\"text-align: right;\">\n",
       "      <th></th>\n",
       "      <th>minion_1016</th>\n",
       "      <th>astro_lsst_01_1016</th>\n",
       "      <th>astro_lsst_01_1015</th>\n",
       "      <th>astro_lsst_01_1017</th>\n",
       "      <th>average</th>\n",
       "    </tr>\n",
       "  </thead>\n",
       "  <tbody>\n",
       "    <tr>\n",
       "      <th>0</th>\n",
       "      <td>NaN</td>\n",
       "      <td>2.727119</td>\n",
       "      <td>4.156818</td>\n",
       "      <td>2.740017</td>\n",
       "      <td>3.207985</td>\n",
       "    </tr>\n",
       "  </tbody>\n",
       "</table>\n",
       "</div>"
      ],
      "text/plain": [
       "   minion_1016  astro_lsst_01_1016  astro_lsst_01_1015  astro_lsst_01_1017  \\\n",
       "0          NaN            2.727119            4.156818            2.740017   \n",
       "\n",
       "    average  \n",
       "0  3.207985  "
      ]
     },
     "metadata": {},
     "output_type": "display_data"
    },
    {
     "data": {
      "text/html": [
       "<div>\n",
       "<table border=\"1\" class=\"dataframe\">\n",
       "  <thead>\n",
       "    <tr style=\"text-align: right;\">\n",
       "      <th></th>\n",
       "      <th>metadata</th>\n",
       "      <th>minion_1016</th>\n",
       "      <th>astro_lsst_01_1016</th>\n",
       "      <th>astro_lsst_01_1015</th>\n",
       "      <th>astro_lsst_01_1017</th>\n",
       "    </tr>\n",
       "  </thead>\n",
       "  <tbody>\n",
       "    <tr>\n",
       "      <th>153</th>\n",
       "      <td>NEO 3 pairs in 30 nights trailing loss yr 12</td>\n",
       "      <td>NaN</td>\n",
       "      <td>63.883606</td>\n",
       "      <td>67.446558</td>\n",
       "      <td>70.357363</td>\n",
       "    </tr>\n",
       "  </tbody>\n",
       "</table>\n",
       "</div>"
      ],
      "text/plain": [
       "                                         metadata  minion_1016  \\\n",
       "153  NEO 3 pairs in 30 nights trailing loss yr 12          NaN   \n",
       "\n",
       "     astro_lsst_01_1016  astro_lsst_01_1015  astro_lsst_01_1017  \n",
       "153           63.883606           67.446558           70.357363  "
      ]
     },
     "metadata": {},
     "output_type": "display_data"
    },
    {
     "name": "stdout",
     "output_type": "stream",
     "text": [
      "Going from 3 pairs in 30 nights yr 12 to 3 pairs in 30 nights trailing loss yr 12:\n"
     ]
    },
    {
     "data": {
      "text/html": [
       "<div>\n",
       "<table border=\"1\" class=\"dataframe\">\n",
       "  <thead>\n",
       "    <tr style=\"text-align: right;\">\n",
       "      <th></th>\n",
       "      <th>minion_1016</th>\n",
       "      <th>astro_lsst_01_1016</th>\n",
       "      <th>astro_lsst_01_1015</th>\n",
       "      <th>astro_lsst_01_1017</th>\n",
       "      <th>average</th>\n",
       "    </tr>\n",
       "  </thead>\n",
       "  <tbody>\n",
       "    <tr>\n",
       "      <th>0</th>\n",
       "      <td>NaN</td>\n",
       "      <td>0.744518</td>\n",
       "      <td>1.928089</td>\n",
       "      <td>1.694449</td>\n",
       "      <td>1.455685</td>\n",
       "    </tr>\n",
       "  </tbody>\n",
       "</table>\n",
       "</div>"
      ],
      "text/plain": [
       "   minion_1016  astro_lsst_01_1016  astro_lsst_01_1015  astro_lsst_01_1017  \\\n",
       "0          NaN            0.744518            1.928089            1.694449   \n",
       "\n",
       "    average  \n",
       "0  1.455685  "
      ]
     },
     "metadata": {},
     "output_type": "display_data"
    },
    {
     "data": {
      "text/html": [
       "<div>\n",
       "<table border=\"1\" class=\"dataframe\">\n",
       "  <thead>\n",
       "    <tr style=\"text-align: right;\">\n",
       "      <th></th>\n",
       "      <th>metadata</th>\n",
       "      <th>minion_1016</th>\n",
       "      <th>astro_lsst_01_1016</th>\n",
       "      <th>astro_lsst_01_1015</th>\n",
       "      <th>astro_lsst_01_1017</th>\n",
       "    </tr>\n",
       "  </thead>\n",
       "  <tbody>\n",
       "    <tr>\n",
       "      <th>156</th>\n",
       "      <td>NEO 3 pairs in 30 nights trailing loss, SNR=4 ...</td>\n",
       "      <td>NaN</td>\n",
       "      <td>67.030553</td>\n",
       "      <td>71.502199</td>\n",
       "      <td>73.616514</td>\n",
       "    </tr>\n",
       "  </tbody>\n",
       "</table>\n",
       "</div>"
      ],
      "text/plain": [
       "                                              metadata  minion_1016  \\\n",
       "156  NEO 3 pairs in 30 nights trailing loss, SNR=4 ...          NaN   \n",
       "\n",
       "     astro_lsst_01_1016  astro_lsst_01_1015  astro_lsst_01_1017  \n",
       "156           67.030553           71.502199           73.616514  "
      ]
     },
     "metadata": {},
     "output_type": "display_data"
    },
    {
     "name": "stdout",
     "output_type": "stream",
     "text": [
      "Going from 3 pairs in 30 nights trailing loss yr 12 to 3 pairs in 30 nights trailing loss, SNR=4 yr 12:\n"
     ]
    },
    {
     "data": {
      "text/html": [
       "<div>\n",
       "<table border=\"1\" class=\"dataframe\">\n",
       "  <thead>\n",
       "    <tr style=\"text-align: right;\">\n",
       "      <th></th>\n",
       "      <th>minion_1016</th>\n",
       "      <th>astro_lsst_01_1016</th>\n",
       "      <th>astro_lsst_01_1015</th>\n",
       "      <th>astro_lsst_01_1017</th>\n",
       "      <th>average</th>\n",
       "    </tr>\n",
       "  </thead>\n",
       "  <tbody>\n",
       "    <tr>\n",
       "      <th>0</th>\n",
       "      <td>NaN</td>\n",
       "      <td>3.146947</td>\n",
       "      <td>4.055641</td>\n",
       "      <td>3.259152</td>\n",
       "      <td>3.487247</td>\n",
       "    </tr>\n",
       "  </tbody>\n",
       "</table>\n",
       "</div>"
      ],
      "text/plain": [
       "   minion_1016  astro_lsst_01_1016  astro_lsst_01_1015  astro_lsst_01_1017  \\\n",
       "0          NaN            3.146947            4.055641            3.259152   \n",
       "\n",
       "    average  \n",
       "0  3.487247  "
      ]
     },
     "metadata": {},
     "output_type": "display_data"
    }
   ],
   "source": [
    "df = neo_new_df\n",
    "match1 = '3 pairs in 15 nights yr 10'\n",
    "show_match(match1, df)\n",
    "match15 = '3 pairs in 30 nights yr 10'\n",
    "show_match(match15, df)\n",
    "show_diff(match1, match15, df)\n",
    "match2 = '3 pairs in 15 nights yr 12'\n",
    "show_match(match2, df)\n",
    "show_diff(match1, match2, df)\n",
    "match3 = '3 pairs in 30 nights yr 12'\n",
    "show_match(match3, df)\n",
    "show_diff(match2, match3, df)\n",
    "match4 = '3 pairs in 30 nights trailing loss yr 12'\n",
    "show_match(match4, df)\n",
    "show_diff(match3, match4, df)\n",
    "match5 = '3 pairs in 30 nights trailing loss, SNR=4 yr 12'\n",
    "show_match(match5, df)\n",
    "show_diff(match4, match5, df)"
   ]
  },
  {
   "cell_type": "code",
   "execution_count": 11,
   "metadata": {
    "collapsed": false,
    "scrolled": true
   },
   "outputs": [
    {
     "data": {
      "text/html": [
       "<div>\n",
       "<table border=\"1\" class=\"dataframe\">\n",
       "  <thead>\n",
       "    <tr style=\"text-align: right;\">\n",
       "      <th></th>\n",
       "      <th>metadata</th>\n",
       "      <th>minion_1016</th>\n",
       "      <th>astro_lsst_01_1016</th>\n",
       "      <th>astro_lsst_01_1015</th>\n",
       "      <th>astro_lsst_01_1017</th>\n",
       "    </tr>\n",
       "  </thead>\n",
       "  <tbody>\n",
       "    <tr>\n",
       "      <th>19</th>\n",
       "      <td>PHA 3 pairs in 15 nights yr 10</td>\n",
       "      <td>65.55878</td>\n",
       "      <td>66.108125</td>\n",
       "      <td>63.248324</td>\n",
       "      <td>66.50123</td>\n",
       "    </tr>\n",
       "  </tbody>\n",
       "</table>\n",
       "</div>"
      ],
      "text/plain": [
       "                          metadata  minion_1016  astro_lsst_01_1016  \\\n",
       "19  PHA 3 pairs in 15 nights yr 10     65.55878           66.108125   \n",
       "\n",
       "    astro_lsst_01_1015  astro_lsst_01_1017  \n",
       "19           63.248324            66.50123  "
      ]
     },
     "metadata": {},
     "output_type": "display_data"
    },
    {
     "data": {
      "text/html": [
       "<div>\n",
       "<table border=\"1\" class=\"dataframe\">\n",
       "  <thead>\n",
       "    <tr style=\"text-align: right;\">\n",
       "      <th></th>\n",
       "      <th>metadata</th>\n",
       "      <th>minion_1016</th>\n",
       "      <th>astro_lsst_01_1016</th>\n",
       "      <th>astro_lsst_01_1015</th>\n",
       "      <th>astro_lsst_01_1017</th>\n",
       "    </tr>\n",
       "  </thead>\n",
       "  <tbody>\n",
       "    <tr>\n",
       "      <th>7</th>\n",
       "      <td>NEO 3 pairs in 15 nights yr 10</td>\n",
       "      <td>60.655279</td>\n",
       "      <td>56.811208</td>\n",
       "      <td>57.718595</td>\n",
       "      <td>62.42445</td>\n",
       "    </tr>\n",
       "  </tbody>\n",
       "</table>\n",
       "</div>"
      ],
      "text/plain": [
       "                         metadata  minion_1016  astro_lsst_01_1016  \\\n",
       "7  NEO 3 pairs in 15 nights yr 10    60.655279           56.811208   \n",
       "\n",
       "   astro_lsst_01_1015  astro_lsst_01_1017  \n",
       "7           57.718595            62.42445  "
      ]
     },
     "metadata": {},
     "output_type": "display_data"
    },
    {
     "data": {
      "text/html": [
       "<div>\n",
       "<table border=\"1\" class=\"dataframe\">\n",
       "  <thead>\n",
       "    <tr style=\"text-align: right;\">\n",
       "      <th></th>\n",
       "      <th>minion_1016</th>\n",
       "      <th>astro_lsst_01_1015</th>\n",
       "      <th>astro_lsst_01_1017</th>\n",
       "      <th>astro_lsst_01_1016</th>\n",
       "      <th>average</th>\n",
       "    </tr>\n",
       "  </thead>\n",
       "  <tbody>\n",
       "    <tr>\n",
       "      <th>0</th>\n",
       "      <td>-4.903501</td>\n",
       "      <td>-5.52973</td>\n",
       "      <td>-4.07678</td>\n",
       "      <td>-9.296917</td>\n",
       "      <td>-5.951732</td>\n",
       "    </tr>\n",
       "  </tbody>\n",
       "</table>\n",
       "</div>"
      ],
      "text/plain": [
       "   minion_1016  astro_lsst_01_1015  astro_lsst_01_1017  astro_lsst_01_1016  \\\n",
       "0    -4.903501            -5.52973            -4.07678           -9.296917   \n",
       "\n",
       "    average  \n",
       "0 -5.951732  "
      ]
     },
     "metadata": {},
     "output_type": "display_data"
    }
   ],
   "source": [
    "# compare NEO completeness to PHA completeness\n",
    "def show_two(metadata, df1, df2):\n",
    "    runnames1 = set(df1.columns.values)\n",
    "    runnames2 = set(df2.columns.values)\n",
    "    runnames = runnames1.intersection(runnames2)\n",
    "    runnames = list(runnames)\n",
    "    runnames.remove('metadata')\n",
    "    d = (df2[df2.metadata.str.contains(metadata)][runnames].as_matrix() - \n",
    "         df1[df1.metadata.str.contains(metadata)][runnames].as_matrix())\n",
    "    diff = pd.DataFrame(d, columns=runnames)\n",
    "    diff['average'] = np.nanmean(d)\n",
    "    display(diff)\n",
    "\n",
    "match = '3 pairs in 15 nights yr 10'\n",
    "df1 = pha_new_df\n",
    "df2 = neo_new_df\n",
    "show_match(match, df1)\n",
    "show_match(match, df2)\n",
    "show_two(match, df1, df2)"
   ]
  },
  {
   "cell_type": "code",
   "execution_count": 12,
   "metadata": {
    "collapsed": false
   },
   "outputs": [
    {
     "data": {
      "text/html": [
       "<table border=\"1\" class=\"dataframe\">\n",
       "  <thead>\n",
       "    <tr style=\"text-align: right;\">\n",
       "      <th>Discovery Criteria</th>\n",
       "      <th>minion_1016</th>\n",
       "      <th>astro_lsst_01_1016</th>\n",
       "      <th>astro_lsst_01_1015</th>\n",
       "      <th>astro_lsst_01_1017</th>\n",
       "    </tr>\n",
       "  </thead>\n",
       "  <tbody>\n",
       "    <tr>\n",
       "      <td>PHA 3 pairs in 15 nights yr 10</td>\n",
       "      <td>65.6</td>\n",
       "      <td>66.1</td>\n",
       "      <td>63.2</td>\n",
       "      <td>66.5</td>\n",
       "    </tr>\n",
       "    <tr>\n",
       "      <td>PHA 3 pairs in 30 nights yr 10</td>\n",
       "      <td>68.4</td>\n",
       "      <td>69.8</td>\n",
       "      <td>67.5</td>\n",
       "      <td>70.3</td>\n",
       "    </tr>\n",
       "    <tr>\n",
       "      <td>PHA 3 pairs in 30 nights trailing loss yr 10</td>\n",
       "      <td>69.1</td>\n",
       "      <td>70.5</td>\n",
       "      <td>70.5</td>\n",
       "      <td>72.3</td>\n",
       "    </tr>\n",
       "    <tr>\n",
       "      <td>PHA 3 pairs in 15 nights yr 12</td>\n",
       "      <td>--</td>\n",
       "      <td>70.5</td>\n",
       "      <td>67.3</td>\n",
       "      <td>70.2</td>\n",
       "    </tr>\n",
       "    <tr>\n",
       "      <td>PHA 3 pairs in 30 nights yr 12</td>\n",
       "      <td>--</td>\n",
       "      <td>73.9</td>\n",
       "      <td>71.7</td>\n",
       "      <td>73.8</td>\n",
       "    </tr>\n",
       "    <tr>\n",
       "      <td>PHA 3 pairs in 30 nights trailing loss yr 12</td>\n",
       "      <td>--</td>\n",
       "      <td>74.8</td>\n",
       "      <td>74.5</td>\n",
       "      <td>75.8</td>\n",
       "    </tr>\n",
       "  </tbody>\n",
       "</table>"
      ],
      "text/plain": [
       "<IPython.core.display.HTML object>"
      ]
     },
     "metadata": {},
     "output_type": "display_data"
    }
   ],
   "source": [
    "df = pha_new_df\n",
    "criteria = ['PHA 3 pairs in 15 nights yr 10', 'PHA 3 pairs in 30 nights yr 10', 'PHA 3 pairs in 30 nights trailing loss yr 10',\n",
    "            'PHA 3 pairs in 15 nights yr 12', 'PHA 3 pairs in 30 nights yr 12', \n",
    "            'PHA 3 pairs in 30 nights trailing loss yr 12', 'PHA 3 pairs in 30 nights trailing loss, SNR=4 yr 12']\n",
    "c = criteria[0]\n",
    "d = df.query('metadata == @c')\n",
    "for c in criteria[1:]:\n",
    "    d2 = df.query('metadata == @c')\n",
    "    d = pd.concat([d, d2])\n",
    "vals = d.columns.values.copy()\n",
    "vals[0] = 'Discovery Criteria'\n",
    "d.columns = vals\n",
    "\n",
    "pd.set_option('max_colwidth', 65)\n",
    "def float_format(x):\n",
    "    if np.isnan(x):\n",
    "        return '--'\n",
    "    else:\n",
    "        return '%.1f' %x\n",
    "pd.set_option('float_format', float_format)\n",
    "display(HTML(d.to_html(index=False)))"
   ]
  },
  {
   "cell_type": "code",
   "execution_count": 13,
   "metadata": {
    "collapsed": false
   },
   "outputs": [
    {
     "data": {
      "text/html": [
       "<table border=\"1\" class=\"dataframe\">\n",
       "  <thead>\n",
       "    <tr style=\"text-align: right;\">\n",
       "      <th>Discovery Criteria</th>\n",
       "      <th>minion_1016</th>\n",
       "      <th>astro_lsst_01_1016</th>\n",
       "      <th>astro_lsst_01_1015</th>\n",
       "      <th>astro_lsst_01_1017</th>\n",
       "    </tr>\n",
       "  </thead>\n",
       "  <tbody>\n",
       "    <tr>\n",
       "      <td>NEO 3 pairs in 15 nights yr 10</td>\n",
       "      <td>60.7</td>\n",
       "      <td>56.8</td>\n",
       "      <td>57.7</td>\n",
       "      <td>62.4</td>\n",
       "    </tr>\n",
       "    <tr>\n",
       "      <td>NEO 3 pairs in 30 nights yr 10</td>\n",
       "      <td>63.3</td>\n",
       "      <td>59.6</td>\n",
       "      <td>61.8</td>\n",
       "      <td>65.2</td>\n",
       "    </tr>\n",
       "    <tr>\n",
       "      <td>NEO 3 pairs in 30 nights trailing loss yr 10</td>\n",
       "      <td>64.1</td>\n",
       "      <td>60.4</td>\n",
       "      <td>63.8</td>\n",
       "      <td>66.8</td>\n",
       "    </tr>\n",
       "    <tr>\n",
       "      <td>NEO 3 pairs in 15 nights yr 12</td>\n",
       "      <td>--</td>\n",
       "      <td>60.4</td>\n",
       "      <td>61.4</td>\n",
       "      <td>65.9</td>\n",
       "    </tr>\n",
       "    <tr>\n",
       "      <td>NEO 3 pairs in 30 nights yr 12</td>\n",
       "      <td>--</td>\n",
       "      <td>63.1</td>\n",
       "      <td>65.5</td>\n",
       "      <td>68.7</td>\n",
       "    </tr>\n",
       "    <tr>\n",
       "      <td>NEO 3 pairs in 30 nights trailing loss yr 12</td>\n",
       "      <td>--</td>\n",
       "      <td>63.9</td>\n",
       "      <td>67.4</td>\n",
       "      <td>70.4</td>\n",
       "    </tr>\n",
       "    <tr>\n",
       "      <td>NEO 3 pairs in 30 nights trailing loss, SNR=4 yr 12</td>\n",
       "      <td>--</td>\n",
       "      <td>67.0</td>\n",
       "      <td>71.5</td>\n",
       "      <td>73.6</td>\n",
       "    </tr>\n",
       "  </tbody>\n",
       "</table>"
      ],
      "text/plain": [
       "<IPython.core.display.HTML object>"
      ]
     },
     "metadata": {},
     "output_type": "display_data"
    }
   ],
   "source": [
    "df = neo_new_df\n",
    "\n",
    "criteria = ['NEO 3 pairs in 15 nights yr 10', 'NEO 3 pairs in 30 nights yr 10', 'NEO 3 pairs in 30 nights trailing loss yr 10',\n",
    "            'NEO 3 pairs in 15 nights yr 12', 'NEO 3 pairs in 30 nights yr 12', \n",
    "            'NEO 3 pairs in 30 nights trailing loss yr 12', 'NEO 3 pairs in 30 nights trailing loss, SNR=4 yr 12']\n",
    "c = criteria[0]\n",
    "d = df.query('metadata == @c')\n",
    "for c in criteria[1:]:\n",
    "    d2 = df.query('metadata == @c')\n",
    "    d = pd.concat([d, d2])\n",
    "vals = d.columns.values.copy()\n",
    "vals[0] = 'Discovery Criteria'\n",
    "d.columns = vals\n",
    "\n",
    "pd.set_option('max_colwidth', 65)\n",
    "def float_format(x):\n",
    "    if np.isnan(x):\n",
    "        return '--'\n",
    "    else:\n",
    "        return '%.1f' %x\n",
    "pd.set_option('float_format', float_format)\n",
    "display(HTML(d.to_html(index=False)))"
   ]
  },
  {
   "cell_type": "code",
   "execution_count": null,
   "metadata": {
    "collapsed": true
   },
   "outputs": [],
   "source": []
  }
 ],
 "metadata": {
  "anaconda-cloud": {},
  "kernelspec": {
   "display_name": "Python [default]",
   "language": "python",
   "name": "python2"
  },
  "language_info": {
   "codemirror_mode": {
    "name": "ipython",
    "version": 2
   },
   "file_extension": ".py",
   "mimetype": "text/x-python",
   "name": "python",
   "nbconvert_exporter": "python",
   "pygments_lexer": "ipython2",
   "version": "2.7.12"
  }
 },
 "nbformat": 4,
 "nbformat_minor": 0
}
