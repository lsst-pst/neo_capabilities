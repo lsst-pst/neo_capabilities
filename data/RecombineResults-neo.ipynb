{
 "cells": [
  {
   "cell_type": "code",
   "execution_count": 1,
   "metadata": {
    "collapsed": true
   },
   "outputs": [],
   "source": [
    "import os\n",
    "from glob import glob\n",
    "import numpy as np\n",
    "import numpy.ma as ma\n",
    "import pandas as pd\n",
    "import matplotlib.pyplot as plt\n",
    "%matplotlib inline"
   ]
  },
  {
   "cell_type": "code",
   "execution_count": 2,
   "metadata": {
    "collapsed": true
   },
   "outputs": [],
   "source": [
    "import lsst.sims.maf.metricBundles as mb\n",
    "import lsst.sims.maf.plots as plots\n",
    "import lsst.sims.maf.metrics as metrics\n",
    "import lsst.sims.maf.slicers as slicers"
   ]
  },
  {
   "cell_type": "code",
   "execution_count": 4,
   "metadata": {},
   "outputs": [],
   "source": [
    "import sys\n",
    "sys.path.append(os.path.join(os.getenv('SIMS_MAF_DIR'), 'bin.src'))\n",
    "import movingObjects as moO"
   ]
  },
  {
   "cell_type": "code",
   "execution_count": 44,
   "metadata": {
    "collapsed": true
   },
   "outputs": [],
   "source": [
    "runname = 'minion_1016'\n",
    "ddir = os.path.join('neo_split_res', runname)\n",
    "outdir = runname + 'neo'\n",
    "orbitFile = 'orbits/neo_5k'"
   ]
  },
  {
   "cell_type": "code",
   "execution_count": 45,
   "metadata": {
    "collapsed": true
   },
   "outputs": [],
   "source": [
    "slicer = slicers.MoObjSlicer()\n",
    "slicer.readOrbits(orbitFile, Hrange=np.arange(11, 28.5, 0.5))"
   ]
  },
  {
   "cell_type": "code",
   "execution_count": 46,
   "metadata": {},
   "outputs": [
    {
     "data": {
      "text/plain": [
       "['neo_5k_00',\n",
       " 'neo_5k_01',\n",
       " 'neo_5k_02',\n",
       " 'neo_5k_03',\n",
       " 'neo_5k_04',\n",
       " 'neo_5k_05',\n",
       " 'neo_5k_06',\n",
       " 'neo_5k_07',\n",
       " 'neo_5k_08',\n",
       " 'neo_5k_09',\n",
       " 'neo_5k_10']"
      ]
     },
     "execution_count": 46,
     "metadata": {},
     "output_type": "execute_result"
    }
   ],
   "source": [
    "pha_splits = os.listdir('orbits/neo_split')\n",
    "pha_splits"
   ]
  },
  {
   "cell_type": "code",
   "execution_count": 50,
   "metadata": {},
   "outputs": [],
   "source": [
    "# Read split results.\n",
    "# ex: astro_lsst_01_1016_Discovery_Time_pha_5k_06_3_pairs_in_12_nights_MOOB.h5\n",
    "strategy = ['3 pairs in 12 nights', '3 pairs in 15 nights', '3 pairs in 20 nights', \n",
    "            '3 pairs in 25 nights', '3 pairs in 30 nights', '4 pairs in 20 nights']\n",
    "bundles = {}\n",
    "for strat in strategy:\n",
    "    bundles[strat] = {}\n",
    "    for spl in pha_splits:\n",
    "        filematch = os.path.join(ddir, runname + \"_Discovery_Time*\" + \"*\" + spl + \"*\" + \n",
    "                                 strat.replace(' ', '_') + \"*h5\")\n",
    "        #print(filematch)\n",
    "        filename = glob(filematch)[0]\n",
    "        bundles[strat][spl] = mb.createEmptyMoMetricBundle()\n",
    "        bundles[strat][spl].read(filename)\n",
    "        Hrange = bundles[strat][spl].slicer.Hrange\n",
    "        bundles[strat][spl].slicer = slicer\n",
    "        bundles[strat][spl].slicer.Hrange = Hrange"
   ]
  },
  {
   "cell_type": "code",
   "execution_count": 51,
   "metadata": {
    "collapsed": true
   },
   "outputs": [],
   "source": [
    "# Join results.\n",
    "times = np.arange(59579, 65055.15+5, 10)\n",
    "summaryMetrics = [metrics.MoCompletenessAtTimeMetric(times=times, Hval=22,cumulative=False, Hindex=0.33),\n",
    "                  metrics.MoCompletenessAtTimeMetric(times=times, Hval=22, cumulative=True, Hindex=0.33)]\n",
    "\n",
    "\n",
    "timebundles = {}\n",
    "for strat in strategy:\n",
    "    filematch = os.path.join(ddir, runname + \"_Discovery_Time*\" + \"*neo_5k_00*\" + strat.replace(' ', '_') + \"*h5\")\n",
    "    filename = glob(filematch)[0]\n",
    "    timebundles[strat] = mb.createEmptyMoMetricBundle()\n",
    "    timebundles[strat].read(filename)\n",
    "    timebundles[strat].fileRoot = timebundles[strat].fileRoot.replace('_00', '')\n",
    "    Hrange1 = timebundles[strat].slicer.Hrange\n",
    "    timebundles[strat].slicer = slicer\n",
    "    timebundles[strat].slicer.Hrange = Hrange1\n",
    "    mvals = np.zeros((len(slicer.orbits), len(Hrange1)), float)\n",
    "    mvalsMask = np.ones((len(slicer.orbits), len(Hrange1)), dtype=bool)\n",
    "    for spl in pha_splits:\n",
    "        if np.any(np.not_equal(bundles[strat][spl].slicer.Hrange, Hrange1)):\n",
    "            raise ValueError('Incompatible results, Hrange varies')\n",
    "        mvals = mvals + bundles[strat][spl].metricValues.filled(0)\n",
    "        mvalsMask = np.where(mvalsMask & bundles[strat][spl].metricValues.mask, True, False)\n",
    "    timebundles[strat].metricValues = ma.MaskedArray(data=mvals, mask=mvalsMask, fill_value=0)\n",
    "    timebundles[strat].metadata = 'NEO ' + strat\n",
    "    timebundles[strat].runname = runname\n",
    "    timebundles[strat].setSummaryMetrics(summaryMetrics)\n",
    "    timebundles[strat].computeSummaryStats()\n",
    "    timebundles[strat].write()"
   ]
  },
  {
   "cell_type": "code",
   "execution_count": 52,
   "metadata": {},
   "outputs": [
    {
     "data": {
      "text/plain": [
       "(array([420]), array([ 63779.]))"
      ]
     },
     "execution_count": 52,
     "metadata": {},
     "output_type": "execute_result"
    }
   ],
   "source": [
    "diff = np.abs(times-63777.50)\n",
    "idx = np.where(diff == np.min(diff))[0]\n",
    "idx, times[idx]"
   ]
  },
  {
   "cell_type": "code",
   "execution_count": 27,
   "metadata": {},
   "outputs": [
    {
     "name": "stdout",
     "output_type": "stream",
     "text": [
      "3 pairs in 12 nights ['H <=22.0 @ 63779.00'] [ 0.68204649]\n",
      "3 pairs in 15 nights ['H <=22.0 @ 63779.00'] [ 0.69072919]\n",
      "3 pairs in 20 nights ['H <=22.0 @ 63779.00'] [ 0.69913533]\n",
      "3 pairs in 25 nights ['H <=22.0 @ 63779.00'] [ 0.706219]\n",
      "3 pairs in 30 nights ['H <=22.0 @ 63779.00'] [ 0.71353221]\n",
      "4 pairs in 20 nights ['H <=22.0 @ 63779.00'] [ 0.64137358]\n"
     ]
    }
   ],
   "source": [
    "# astro-lsst-01-1016\n",
    "for strat in strategy:\n",
    "    print(strat, timebundles[strat].summaryValues['CumulativeCompleteness@Time']['name'][idx],\n",
    "         timebundles[strat].summaryValues['CumulativeCompleteness@Time']['value'][idx])"
   ]
  },
  {
   "cell_type": "code",
   "execution_count": 28,
   "metadata": {},
   "outputs": [
    {
     "name": "stdout",
     "output_type": "stream",
     "text": [
      "3 pairs in 12 nights ['H <=22.0 @ 63229.00'] [ 0.64639581]\n",
      "3 pairs in 15 nights ['H <=22.0 @ 63229.00'] [ 0.65581696]\n",
      "3 pairs in 20 nights ['H <=22.0 @ 63229.00'] [ 0.66542175]\n",
      "3 pairs in 25 nights ['H <=22.0 @ 63229.00'] [ 0.6728706]\n",
      "3 pairs in 30 nights ['H <=22.0 @ 63229.00'] [ 0.67995452]\n",
      "4 pairs in 20 nights ['H <=22.0 @ 63229.00'] [ 0.6048947]\n"
     ]
    }
   ],
   "source": [
    "# astro-lsst-01_1016 @ time 10 years\n",
    "diff = np.abs(times-63230.5)\n",
    "idx = np.where(diff == np.min(diff))[0]\n",
    "idx, times[idx]\n",
    "for strat in strategy:\n",
    "    print(strat, timebundles[strat].summaryValues['CumulativeCompleteness@Time']['name'][idx],\n",
    "         timebundles[strat].summaryValues['CumulativeCompleteness@Time']['value'][idx])"
   ]
  },
  {
   "cell_type": "code",
   "execution_count": 29,
   "metadata": {},
   "outputs": [
    {
     "name": "stdout",
     "output_type": "stream",
     "text": [
      "3 pairs in 12 nights ['H <=22.0 @ 65059.00'] [ 0.72742593]\n",
      "3 pairs in 15 nights ['H <=22.0 @ 65059.00'] [ 0.73537991]\n",
      "3 pairs in 20 nights ['H <=22.0 @ 65059.00'] [ 0.74300583]\n",
      "3 pairs in 25 nights ['H <=22.0 @ 65059.00'] [ 0.74990049]\n",
      "3 pairs in 30 nights ['H <=22.0 @ 65059.00'] [ 0.75586918]\n",
      "4 pairs in 20 nights ['H <=22.0 @ 65059.00'] [ 0.69090125]\n"
     ]
    }
   ],
   "source": [
    "# astro-lsst-01_1016 @ time 15 years\n",
    "diff = np.abs(times-65055.5)\n",
    "idx = np.where(diff == np.min(diff))[0]\n",
    "idx, times[idx]\n",
    "for strat in strategy:\n",
    "    print(strat, timebundles[strat].summaryValues['CumulativeCompleteness@Time']['name'][idx],\n",
    "         timebundles[strat].summaryValues['CumulativeCompleteness@Time']['value'][idx])"
   ]
  },
  {
   "cell_type": "code",
   "execution_count": 36,
   "metadata": {},
   "outputs": [
    {
     "name": "stdout",
     "output_type": "stream",
     "text": [
      "3 pairs in 12 nights ['H <=22.0 @ 63779.00'] [ 0.66120651]\n",
      "3 pairs in 15 nights ['H <=22.0 @ 63779.00'] [ 0.67287054]\n",
      "3 pairs in 20 nights ['H <=22.0 @ 63779.00'] [ 0.68373311]\n",
      "3 pairs in 25 nights ['H <=22.0 @ 63779.00'] [ 0.69632779]\n",
      "3 pairs in 30 nights ['H <=22.0 @ 63779.00'] [ 0.70674202]\n",
      "4 pairs in 20 nights ['H <=22.0 @ 63779.00'] [ 0.60695386]\n"
     ]
    }
   ],
   "source": [
    "# astro-lsst-01-1015\n",
    "for strat in strategy:\n",
    "    print(strat, timebundles[strat].summaryValues['CumulativeCompleteness@Time']['name'][idx],\n",
    "         timebundles[strat].summaryValues['CumulativeCompleteness@Time']['value'][idx])"
   ]
  },
  {
   "cell_type": "code",
   "execution_count": 43,
   "metadata": {},
   "outputs": [
    {
     "name": "stdout",
     "output_type": "stream",
     "text": [
      "3 pairs in 12 nights ['H <=22.0 @ 63779.00'] [ 0.69069903]\n",
      "3 pairs in 15 nights ['H <=22.0 @ 63779.00'] [ 0.70007617]\n",
      "3 pairs in 20 nights ['H <=22.0 @ 63779.00'] [ 0.71026322]\n",
      "3 pairs in 25 nights ['H <=22.0 @ 63779.00'] [ 0.71924839]\n",
      "3 pairs in 30 nights ['H <=22.0 @ 63779.00'] [ 0.72649177]\n",
      "4 pairs in 20 nights ['H <=22.0 @ 63779.00'] [ 0.65098262]\n"
     ]
    }
   ],
   "source": [
    "# astro-lsst-01-1017\n",
    "for strat in strategy:\n",
    "    print(strat, timebundles[strat].summaryValues['CumulativeCompleteness@Time']['name'][idx],\n",
    "         timebundles[strat].summaryValues['CumulativeCompleteness@Time']['value'][idx])"
   ]
  },
  {
   "cell_type": "code",
   "execution_count": 53,
   "metadata": {},
   "outputs": [
    {
     "name": "stdout",
     "output_type": "stream",
     "text": [
      "3 pairs in 12 nights ['H <=22.0 @ 63779.00'] [ 0.64600026]\n",
      "3 pairs in 15 nights ['H <=22.0 @ 63779.00'] [ 0.65447927]\n",
      "3 pairs in 20 nights ['H <=22.0 @ 63779.00'] [ 0.6626879]\n",
      "3 pairs in 25 nights ['H <=22.0 @ 63779.00'] [ 0.66903789]\n",
      "3 pairs in 30 nights ['H <=22.0 @ 63779.00'] [ 0.67542836]\n",
      "4 pairs in 20 nights ['H <=22.0 @ 63779.00'] [ 0.61016482]\n"
     ]
    }
   ],
   "source": [
    "# minion_1016\n",
    "for strat in strategy:\n",
    "    print(strat, timebundles[strat].summaryValues['CumulativeCompleteness@Time']['name'][idx],\n",
    "         timebundles[strat].summaryValues['CumulativeCompleteness@Time']['value'][idx])"
   ]
  },
  {
   "cell_type": "code",
   "execution_count": null,
   "metadata": {
    "collapsed": true
   },
   "outputs": [],
   "source": []
  }
 ],
 "metadata": {
  "kernelspec": {
   "display_name": "Python 3",
   "language": "python",
   "name": "python3"
  },
  "language_info": {
   "codemirror_mode": {
    "name": "ipython",
    "version": 3
   },
   "file_extension": ".py",
   "mimetype": "text/x-python",
   "name": "python",
   "nbconvert_exporter": "python",
   "pygments_lexer": "ipython3",
   "version": "3.6.2"
  }
 },
 "nbformat": 4,
 "nbformat_minor": 2
}
