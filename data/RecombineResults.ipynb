{
 "cells": [
  {
   "cell_type": "code",
   "execution_count": 1,
   "metadata": {
    "collapsed": true
   },
   "outputs": [],
   "source": [
    "import os\n",
    "from glob import glob\n",
    "import numpy as np\n",
    "import numpy.ma as ma\n",
    "import pandas as pd\n",
    "import matplotlib.pyplot as plt\n",
    "%matplotlib inline"
   ]
  },
  {
   "cell_type": "code",
   "execution_count": 2,
   "metadata": {
    "collapsed": true
   },
   "outputs": [],
   "source": [
    "import lsst.sims.maf.metricBundles as mb\n",
    "import lsst.sims.maf.plots as plots\n",
    "import lsst.sims.maf.metrics as metrics\n",
    "import lsst.sims.maf.slicers as slicers"
   ]
  },
  {
   "cell_type": "code",
   "execution_count": 4,
   "metadata": {
    "collapsed": true
   },
   "outputs": [],
   "source": [
    "import sys\n",
    "sys.path.append(os.path.join(os.getenv('SIMS_MAF_DIR'), 'bin.src'))\n",
    "import movingObjects as moO"
   ]
  },
  {
   "cell_type": "code",
   "execution_count": 106,
   "metadata": {
    "collapsed": true
   },
   "outputs": [],
   "source": [
    "runname = 'astro_lsst_01_1017'\n",
    "ddir = os.path.join('pha_split_res', runname + \"_2\")\n",
    "outdir = runname + 'pha'\n",
    "orbitFile = 'orbits/pha_5k'"
   ]
  },
  {
   "cell_type": "code",
   "execution_count": 107,
   "metadata": {
    "collapsed": true
   },
   "outputs": [],
   "source": [
    "slicer = slicers.MoObjSlicer()\n",
    "slicer.readOrbits(orbitFile, Hrange=np.arange(11, 28.5, 0.5))"
   ]
  },
  {
   "cell_type": "code",
   "execution_count": 108,
   "metadata": {},
   "outputs": [
    {
     "data": {
      "text/plain": [
       "['pha_5k_00',\n",
       " 'pha_5k_01',\n",
       " 'pha_5k_02',\n",
       " 'pha_5k_03',\n",
       " 'pha_5k_04',\n",
       " 'pha_5k_05',\n",
       " 'pha_5k_06',\n",
       " 'pha_5k_07',\n",
       " 'pha_5k_08',\n",
       " 'pha_5k_09']"
      ]
     },
     "execution_count": 108,
     "metadata": {},
     "output_type": "execute_result"
    }
   ],
   "source": [
    "pha_splits = os.listdir('orbits/pha_split')\n",
    "pha_splits"
   ]
  },
  {
   "cell_type": "code",
   "execution_count": 109,
   "metadata": {},
   "outputs": [
    {
     "name": "stdout",
     "output_type": "stream",
     "text": [
      "new filematch pha_split_res/astro_lsst_01_1017_2/astro_lsst_01_1017**pha_5k_00*3_pairs_in_12_nights*h5\n"
     ]
    },
    {
     "ename": "IndexError",
     "evalue": "list index out of range",
     "output_type": "error",
     "traceback": [
      "\u001b[0;31m---------------------------------------------------------------------------\u001b[0m",
      "\u001b[0;31mIndexError\u001b[0m                                Traceback (most recent call last)",
      "\u001b[0;32m<ipython-input-109-a5489dd0f05a>\u001b[0m in \u001b[0;36m<module>\u001b[0;34m()\u001b[0m\n\u001b[1;32m     20\u001b[0m         \u001b[0;32mtry\u001b[0m\u001b[0;34m:\u001b[0m\u001b[0;34m\u001b[0m\u001b[0m\n\u001b[0;32m---> 21\u001b[0;31m             \u001b[0mfilename\u001b[0m \u001b[0;34m=\u001b[0m \u001b[0mglob\u001b[0m\u001b[0;34m(\u001b[0m\u001b[0mfilematch\u001b[0m\u001b[0;34m)\u001b[0m\u001b[0;34m[\u001b[0m\u001b[0;36m0\u001b[0m\u001b[0;34m]\u001b[0m\u001b[0;34m\u001b[0m\u001b[0m\n\u001b[0m\u001b[1;32m     22\u001b[0m         \u001b[0;32mexcept\u001b[0m\u001b[0;34m:\u001b[0m\u001b[0;34m\u001b[0m\u001b[0m\n",
      "\u001b[0;31mIndexError\u001b[0m: list index out of range",
      "\nDuring handling of the above exception, another exception occurred:\n",
      "\u001b[0;31mIndexError\u001b[0m                                Traceback (most recent call last)",
      "\u001b[0;32m<ipython-input-109-a5489dd0f05a>\u001b[0m in \u001b[0;36m<module>\u001b[0;34m()\u001b[0m\n\u001b[1;32m     24\u001b[0m                                     strat.replace(' ', '_') + \"*h5\")\n\u001b[1;32m     25\u001b[0m             \u001b[0mprint\u001b[0m\u001b[0;34m(\u001b[0m\u001b[0;34m'new filematch'\u001b[0m\u001b[0;34m,\u001b[0m \u001b[0mfilematch\u001b[0m\u001b[0;34m)\u001b[0m\u001b[0;34m\u001b[0m\u001b[0m\n\u001b[0;32m---> 26\u001b[0;31m             \u001b[0mfilename\u001b[0m \u001b[0;34m=\u001b[0m \u001b[0mglob\u001b[0m\u001b[0;34m(\u001b[0m\u001b[0mfilematch\u001b[0m\u001b[0;34m)\u001b[0m\u001b[0;34m[\u001b[0m\u001b[0;36m0\u001b[0m\u001b[0;34m]\u001b[0m\u001b[0;34m\u001b[0m\u001b[0m\n\u001b[0m\u001b[1;32m     27\u001b[0m         \u001b[0mbundles\u001b[0m\u001b[0;34m[\u001b[0m\u001b[0mstrat\u001b[0m\u001b[0;34m]\u001b[0m\u001b[0;34m[\u001b[0m\u001b[0mspl\u001b[0m\u001b[0;34m]\u001b[0m \u001b[0;34m=\u001b[0m \u001b[0mmb\u001b[0m\u001b[0;34m.\u001b[0m\u001b[0mcreateEmptyMoMetricBundle\u001b[0m\u001b[0;34m(\u001b[0m\u001b[0;34m)\u001b[0m\u001b[0;34m\u001b[0m\u001b[0m\n\u001b[1;32m     28\u001b[0m         \u001b[0mbundles\u001b[0m\u001b[0;34m[\u001b[0m\u001b[0mstrat\u001b[0m\u001b[0;34m]\u001b[0m\u001b[0;34m[\u001b[0m\u001b[0mspl\u001b[0m\u001b[0;34m]\u001b[0m\u001b[0;34m.\u001b[0m\u001b[0mread\u001b[0m\u001b[0;34m(\u001b[0m\u001b[0mfilename\u001b[0m\u001b[0;34m)\u001b[0m\u001b[0;34m\u001b[0m\u001b[0m\n",
      "\u001b[0;31mIndexError\u001b[0m: list index out of range"
     ]
    }
   ],
   "source": [
    "# Read split results.\n",
    "# ex: astro_lsst_01_1016_Discovery_Time_pha_5k_06_3_pairs_in_12_nights_MOOB.h5\n",
    "strategy = ['3 pairs in 12 nights', '3 pairs in 15 nights', '3 pairs in 20 nights', \n",
    "            '3 pairs in 25 nights', '3 pairs in 30 nights', '4 pairs in 20 nights']\n",
    "strategy += ['3 pairs in 15 nights trailing loss', '3 pairs in 30 nights trailing loss']\n",
    "strategy += ['3 pairs in 15 nights SNReq4', '3 pairs in 30 nights SNReq4']\n",
    "strategy += ['3 pairs in 15 nights trailing loss SNReq4', '3 pairs in 30 nights trailing loss SNReq4']\n",
    "strategy += ['Single detection', 'Single pair']\n",
    "strategy += ['3 pairs in 15 nights SNReq0']\n",
    "#strategy += ['6 detections in 60 nights yr 10']\n",
    "strategy += ['6 detections in 60 nights']\n",
    "\n",
    "\n",
    "bundles = {}\n",
    "for strat in strategy:\n",
    "    bundles[strat] = {}\n",
    "    for spl in pha_splits:\n",
    "        filematch = os.path.join(ddir, runname + \"_Discovery_Time*\" + \"*\" + spl + \"*\" + \n",
    "                                 strat.replace(' ', '_') + \"*h5\")\n",
    "        try:\n",
    "            filename = glob(filematch)[0]        \n",
    "        except:\n",
    "            filematch = os.path.join(ddir, runname + \"*\" + \"*\" + spl + \"*\" +\n",
    "                                    strat.replace(' ', '_') + \"*h5\")\n",
    "            print('new filematch', filematch)\n",
    "            filename = glob(filematch)[0]\n",
    "        bundles[strat][spl] = mb.createEmptyMoMetricBundle()\n",
    "        bundles[strat][spl].read(filename)\n",
    "        Hrange = bundles[strat][spl].slicer.Hrange\n",
    "        bundles[strat][spl].slicer = slicer\n",
    "        bundles[strat][spl].slicer.Hrange = Hrange"
   ]
  },
  {
   "cell_type": "code",
   "execution_count": 101,
   "metadata": {
    "collapsed": true
   },
   "outputs": [],
   "source": [
    "# Join results.\n",
    "times = np.arange(59579, 65055.15+5, 10)\n",
    "summaryMetrics = [metrics.MoCompletenessAtTimeMetric(times=times, Hval=22,cumulative=False, Hindex=0.33),\n",
    "                  metrics.MoCompletenessAtTimeMetric(times=times, Hval=22, cumulative=True, Hindex=0.33)]\n",
    "summaryMetrics2 = [metrics.MoCompletenessMetric(cumulative=False, Hindex=0.33),\n",
    "                  metrics.MoCompletenessMetric(cumulative=True, Hindex=0.33)]\n",
    "\n",
    "timebundles = {}\n",
    "for strat in strategy:\n",
    "    filematch = os.path.join(ddir, runname + \"_Discovery_Time*\" + \"*pha_5k_00*\" + strat.replace(' ', '_') + \"*h5\")\n",
    "    flagT = True\n",
    "    try:\n",
    "        filename = glob(filematch)[0]\n",
    "    except:\n",
    "        filematch = os.path.join(ddir, runname + \"*\" + \"*\" + '*pha_5k_00*' +\n",
    "                                    strat.replace(' ', '_') + \"*h5\")\n",
    "        flagT = False\n",
    "        filename = glob(filematch)[0]\n",
    "    timebundles[strat] = mb.createEmptyMoMetricBundle()\n",
    "    timebundles[strat].read(filename)\n",
    "    timebundles[strat].fileRoot = timebundles[strat].fileRoot.replace('_00', '')\n",
    "    Hrange1 = timebundles[strat].slicer.Hrange\n",
    "    timebundles[strat].slicer = slicer\n",
    "    timebundles[strat].slicer.Hrange = Hrange1\n",
    "    mvals = np.zeros((len(slicer.orbits), len(Hrange1)), float)\n",
    "    mvalsMask = np.ones((len(slicer.orbits), len(Hrange1)), dtype=bool)\n",
    "    for spl in pha_splits:\n",
    "        if np.any(np.not_equal(bundles[strat][spl].slicer.Hrange, Hrange1)):\n",
    "            raise ValueError('Incompatible results, Hrange varies')\n",
    "        mvals = mvals + bundles[strat][spl].metricValues.filled(0)\n",
    "        mvalsMask = np.where(mvalsMask & bundles[strat][spl].metricValues.mask, True, False)\n",
    "    timebundles[strat].metricValues = ma.MaskedArray(data=mvals, mask=mvalsMask, fill_value=0)\n",
    "    timebundles[strat].metadata = 'PHA ' + strat\n",
    "    timebundles[strat].runname = runname\n",
    "    if flagT:\n",
    "        timebundles[strat].setSummaryMetrics(summaryMetrics)\n",
    "        timebundles[strat].computeSummaryStats()\n",
    "    else:\n",
    "        timebundles[strat].setSummaryMetrics(summaryMetrics2)\n",
    "        timebundles[strat].computeSummaryStats()\n",
    "    timebundles[strat].write()"
   ]
  },
  {
   "cell_type": "code",
   "execution_count": 94,
   "metadata": {},
   "outputs": [
    {
     "data": {
      "text/plain": [
       "273"
      ]
     },
     "execution_count": 94,
     "metadata": {},
     "output_type": "execute_result"
    }
   ],
   "source": [
    "# old runs : 59580 start \n",
    "# v4 runs: 59853 start\n",
    "#59853 + 365 *10\n",
    "59580 + 365 * 12\n",
    "59853 -59580"
   ]
  },
  {
   "cell_type": "code",
   "execution_count": 95,
   "metadata": {},
   "outputs": [
    {
     "name": "stdout",
     "output_type": "stream",
     "text": [
      "[365] [ 63229.] [438] [ 63959.]\n"
     ]
    }
   ],
   "source": [
    "#10 years, old runs\n",
    "diff = np.abs(times-(63230.50 + 0))\n",
    "yr10idx = np.where(diff == np.min(diff))[0]\n",
    "#12 years, old runs\n",
    "diff = np.abs(times-(63960 + 0))\n",
    "yr12idx = np.where(diff == np.min(diff))[0]\n",
    "print(yr10idx, times[yr10idx], yr12idx, times[yr12idx])"
   ]
  },
  {
   "cell_type": "code",
   "execution_count": 45,
   "metadata": {},
   "outputs": [
    {
     "name": "stdout",
     "output_type": "stream",
     "text": [
      "3 pairs in 12 nights ['H <=22.0 @ 63959.00'] [ 0.74128294]\n",
      "3 pairs in 15 nights ['H <=22.0 @ 63959.00'] [ 0.75043703]\n",
      "3 pairs in 20 nights ['H <=22.0 @ 63959.00'] [ 0.7584721]\n",
      "3 pairs in 25 nights ['H <=22.0 @ 63959.00'] [ 0.76503545]\n",
      "3 pairs in 30 nights ['H <=22.0 @ 63959.00'] [ 0.77098024]\n",
      "4 pairs in 20 nights ['H <=22.0 @ 63959.00'] [ 0.7019879]\n",
      "3 pairs in 15 nights trailing loss ['H <=22.0 @ 63959.00'] [ 0.74929041]\n",
      "3 pairs in 30 nights trailing loss ['H <=22.0 @ 63959.00'] [ 0.77011237]\n",
      "3 pairs in 15 nights SNReq4 ['H <=22.0 @ 63959.00'] [ 0.77653691]\n",
      "3 pairs in 30 nights SNReq4 ['H <=22.0 @ 63959.00'] [ 0.79450148]\n",
      "3 pairs in 15 nights trailing loss SNReq4 ['H <=22.0 @ 63959.00'] [ 0.77653691]\n",
      "3 pairs in 30 nights trailing loss SNReq4 ['H <=22.0 @ 63959.00'] [ 0.79450148]\n",
      "Single detection ['H <=22.0 @ 63959.00'] [ 0.88771766]\n",
      "Single pair ['H <=22.0 @ 63959.00'] [ 0.85574515]\n"
     ]
    }
   ],
   "source": [
    "# astro-lsst-01-1016\n",
    "for strat in strategy:\n",
    "    print(strat, timebundles[strat].summaryValues['CumulativeCompleteness@Time']['name'][yr12idx],\n",
    "         timebundles[strat].summaryValues['CumulativeCompleteness@Time']['value'][yr12idx])"
   ]
  },
  {
   "cell_type": "code",
   "execution_count": 44,
   "metadata": {},
   "outputs": [
    {
     "name": "stdout",
     "output_type": "stream",
     "text": [
      "3 pairs in 12 nights ['H <=22.0 @ 63229.00'] [ 0.70072872]\n",
      "3 pairs in 15 nights ['H <=22.0 @ 63229.00'] [ 0.71008376]\n",
      "3 pairs in 20 nights ['H <=22.0 @ 63229.00'] [ 0.71860778]\n",
      "3 pairs in 25 nights ['H <=22.0 @ 63229.00'] [ 0.72563463]\n",
      "3 pairs in 30 nights ['H <=22.0 @ 63229.00'] [ 0.7321288]\n",
      "4 pairs in 20 nights ['H <=22.0 @ 63229.00'] [ 0.65956568]\n",
      "3 pairs in 15 nights trailing loss ['H <=22.0 @ 63229.00'] [ 0.7087657]\n",
      "3 pairs in 30 nights trailing loss ['H <=22.0 @ 63229.00'] [ 0.73161255]\n",
      "3 pairs in 15 nights SNReq4 ['H <=22.0 @ 63229.00'] [ 0.7388797]\n",
      "3 pairs in 30 nights SNReq4 ['H <=22.0 @ 63229.00'] [ 0.75842672]\n",
      "3 pairs in 15 nights trailing loss SNReq4 ['H <=22.0 @ 63229.00'] [ 0.7388797]\n",
      "3 pairs in 30 nights trailing loss SNReq4 ['H <=22.0 @ 63229.00'] [ 0.75842672]\n",
      "Single detection ['H <=22.0 @ 63229.00'] [ 0.86111512]\n",
      "Single pair ['H <=22.0 @ 63229.00'] [ 0.82504625]\n"
     ]
    }
   ],
   "source": [
    "# astro-lsst-01_1016 @ time 10 years\n",
    "for strat in strategy:\n",
    "    print(strat, timebundles[strat].summaryValues['CumulativeCompleteness@Time']['name'][yr10idx],\n",
    "         timebundles[strat].summaryValues['CumulativeCompleteness@Time']['value'][yr10idx])"
   ]
  },
  {
   "cell_type": "code",
   "execution_count": 23,
   "metadata": {},
   "outputs": [
    {
     "name": "stdout",
     "output_type": "stream",
     "text": [
      "3 pairs in 12 nights ['H <=22.0 @ 65059.00'] [ 0.78152201]\n",
      "3 pairs in 15 nights ['H <=22.0 @ 65059.00'] [ 0.78909266]\n",
      "3 pairs in 20 nights ['H <=22.0 @ 65059.00'] [ 0.79669691]\n",
      "3 pairs in 25 nights ['H <=22.0 @ 65059.00'] [ 0.80288782]\n",
      "3 pairs in 30 nights ['H <=22.0 @ 65059.00'] [ 0.80827317]\n",
      "4 pairs in 20 nights ['H <=22.0 @ 65059.00'] [ 0.74443137]\n"
     ]
    }
   ],
   "source": [
    "# astro-lsst-01_1016 @ time 15 years\n",
    "diff = np.abs(times-65055.5)\n",
    "idx = np.where(diff == np.min(diff))[0]\n",
    "idx, times[idx]\n",
    "for strat in strategy:\n",
    "    print(strat, timebundles[strat].summaryValues['CumulativeCompleteness@Time']['name'][idx],\n",
    "         timebundles[strat].summaryValues['CumulativeCompleteness@Time']['value'][idx])"
   ]
  },
  {
   "cell_type": "code",
   "execution_count": 52,
   "metadata": {},
   "outputs": [
    {
     "name": "stdout",
     "output_type": "stream",
     "text": [
      "3 pairs in 12 nights ['H <=22.0 @ 63229.00'] [ 0.69957278]\n",
      "3 pairs in 15 nights ['H <=22.0 @ 63229.00'] [ 0.71285879]\n",
      "3 pairs in 20 nights ['H <=22.0 @ 63229.00'] [ 0.72676014]\n",
      "3 pairs in 25 nights ['H <=22.0 @ 63229.00'] [ 0.73830412]\n",
      "3 pairs in 30 nights ['H <=22.0 @ 63229.00'] [ 0.74658048]\n",
      "4 pairs in 20 nights ['H <=22.0 @ 63229.00'] [ 0.64279197]\n",
      "3 pairs in 15 nights trailing loss ['H <=22.0 @ 63229.00'] [ 0.70973404]\n",
      "3 pairs in 30 nights trailing loss ['H <=22.0 @ 63229.00'] [ 0.7456052]\n",
      "3 pairs in 15 nights SNReq4 ['H <=22.0 @ 63229.00'] [ 0.74741276]\n",
      "3 pairs in 30 nights SNReq4 ['H <=22.0 @ 63229.00'] [ 0.77802755]\n",
      "3 pairs in 15 nights trailing loss SNReq4 ['H <=22.0 @ 63229.00'] [ 0.74741276]\n",
      "3 pairs in 30 nights trailing loss SNReq4 ['H <=22.0 @ 63229.00'] [ 0.77802755]\n",
      "Single detection ['H <=22.0 @ 63229.00'] [ 0.88823557]\n",
      "Single pair ['H <=22.0 @ 63229.00'] [ 0.85722786]\n"
     ]
    }
   ],
   "source": [
    "# astro-lsst-01-1015 yr 10\n",
    "for strat in strategy:\n",
    "    print(strat, timebundles[strat].summaryValues['CumulativeCompleteness@Time']['name'][yr10idx],\n",
    "         timebundles[strat].summaryValues['CumulativeCompleteness@Time']['value'][yr10idx])"
   ]
  },
  {
   "cell_type": "code",
   "execution_count": 53,
   "metadata": {},
   "outputs": [
    {
     "name": "stdout",
     "output_type": "stream",
     "text": [
      "3 pairs in 12 nights ['H <=22.0 @ 63959.00'] [ 0.74067693]\n",
      "3 pairs in 15 nights ['H <=22.0 @ 63959.00'] [ 0.75258709]\n",
      "3 pairs in 20 nights ['H <=22.0 @ 63959.00'] [ 0.76580289]\n",
      "3 pairs in 25 nights ['H <=22.0 @ 63959.00'] [ 0.77648192]\n",
      "3 pairs in 30 nights ['H <=22.0 @ 63959.00'] [ 0.783748]\n",
      "4 pairs in 20 nights ['H <=22.0 @ 63959.00'] [ 0.68678541]\n",
      "3 pairs in 15 nights trailing loss ['H <=22.0 @ 63959.00'] [ 0.74969784]\n",
      "3 pairs in 30 nights trailing loss ['H <=22.0 @ 63959.00'] [ 0.78202353]\n",
      "3 pairs in 15 nights SNReq4 ['H <=22.0 @ 63959.00'] [ 0.78593362]\n",
      "3 pairs in 30 nights SNReq4 ['H <=22.0 @ 63959.00'] [ 0.81287801]\n",
      "3 pairs in 15 nights trailing loss SNReq4 ['H <=22.0 @ 63959.00'] [ 0.78593362]\n",
      "3 pairs in 30 nights trailing loss SNReq4 ['H <=22.0 @ 63959.00'] [ 0.81287801]\n",
      "Single detection ['H <=22.0 @ 63959.00'] [ 0.91061248]\n",
      "Single pair ['H <=22.0 @ 63959.00'] [ 0.88375897]\n"
     ]
    }
   ],
   "source": [
    "# astro-lsst-01-1015 yr 12\n",
    "for strat in strategy:\n",
    "    print(strat, timebundles[strat].summaryValues['CumulativeCompleteness@Time']['name'][yr12idx],\n",
    "         timebundles[strat].summaryValues['CumulativeCompleteness@Time']['value'][yr12idx])"
   ]
  },
  {
   "cell_type": "code",
   "execution_count": 60,
   "metadata": {},
   "outputs": [
    {
     "name": "stdout",
     "output_type": "stream",
     "text": [
      "3 pairs in 12 nights ['H <=22.0 @ 63229.00'] [ 0.71641057]\n",
      "3 pairs in 15 nights ['H <=22.0 @ 63229.00'] [ 0.7268258]\n",
      "3 pairs in 20 nights ['H <=22.0 @ 63229.00'] [ 0.73816745]\n",
      "3 pairs in 25 nights ['H <=22.0 @ 63229.00'] [ 0.74797051]\n",
      "3 pairs in 30 nights ['H <=22.0 @ 63229.00'] [ 0.75565303]\n",
      "4 pairs in 20 nights ['H <=22.0 @ 63229.00'] [ 0.67112075]\n",
      "3 pairs in 15 nights trailing loss ['H <=22.0 @ 63229.00'] [ 0.72779583]\n",
      "3 pairs in 30 nights trailing loss ['H <=22.0 @ 63229.00'] [ 0.75592634]\n",
      "3 pairs in 15 nights SNReq4 ['H <=22.0 @ 63229.00'] [ 0.75758425]\n",
      "3 pairs in 30 nights SNReq4 ['H <=22.0 @ 63229.00'] [ 0.78346429]\n",
      "3 pairs in 15 nights trailing loss SNReq4 ['H <=22.0 @ 63229.00'] [ 0.75758425]\n",
      "3 pairs in 30 nights trailing loss SNReq4 ['H <=22.0 @ 63229.00'] [ 0.78346429]\n",
      "Single detection ['H <=22.0 @ 63229.00'] [ 0.88395827]\n",
      "Single pair ['H <=22.0 @ 63229.00'] [ 0.85526591]\n"
     ]
    }
   ],
   "source": [
    "# astro-lsst-01-1017 yr 10\n",
    "for strat in strategy:\n",
    "    print(strat, timebundles[strat].summaryValues['CumulativeCompleteness@Time']['name'][yr10idx],\n",
    "         timebundles[strat].summaryValues['CumulativeCompleteness@Time']['value'][yr10idx])"
   ]
  },
  {
   "cell_type": "code",
   "execution_count": 61,
   "metadata": {},
   "outputs": [
    {
     "name": "stdout",
     "output_type": "stream",
     "text": [
      "3 pairs in 12 nights ['H <=22.0 @ 63959.00'] [ 0.75494339]\n",
      "3 pairs in 15 nights ['H <=22.0 @ 63959.00'] [ 0.76501288]\n",
      "3 pairs in 20 nights ['H <=22.0 @ 63959.00'] [ 0.77603137]\n",
      "3 pairs in 25 nights ['H <=22.0 @ 63959.00'] [ 0.7836424]\n",
      "3 pairs in 30 nights ['H <=22.0 @ 63959.00'] [ 0.78993808]\n",
      "4 pairs in 20 nights ['H <=22.0 @ 63959.00'] [ 0.71164474]\n",
      "3 pairs in 15 nights trailing loss ['H <=22.0 @ 63959.00'] [ 0.76666834]\n",
      "3 pairs in 30 nights trailing loss ['H <=22.0 @ 63959.00'] [ 0.79191119]\n",
      "3 pairs in 15 nights SNReq4 ['H <=22.0 @ 63959.00'] [ 0.7937622]\n",
      "3 pairs in 30 nights SNReq4 ['H <=22.0 @ 63959.00'] [ 0.81551207]\n",
      "3 pairs in 15 nights trailing loss SNReq4 ['H <=22.0 @ 63959.00'] [ 0.7937622]\n",
      "3 pairs in 30 nights trailing loss SNReq4 ['H <=22.0 @ 63959.00'] [ 0.81551207]\n",
      "Single detection ['H <=22.0 @ 63959.00'] [ 0.90729345]\n",
      "Single pair ['H <=22.0 @ 63959.00'] [ 0.88154957]\n"
     ]
    }
   ],
   "source": [
    "# astro-lsst-01-1017 yr 12\n",
    "for strat in strategy:\n",
    "    print(strat, timebundles[strat].summaryValues['CumulativeCompleteness@Time']['name'][yr12idx],\n",
    "         timebundles[strat].summaryValues['CumulativeCompleteness@Time']['value'][yr12idx])"
   ]
  },
  {
   "cell_type": "code",
   "execution_count": 102,
   "metadata": {},
   "outputs": [
    {
     "name": "stdout",
     "output_type": "stream",
     "text": [
      "3 pairs in 12 nights ['H <=22.0 @ 63229.00'] [ 0.69440213]\n",
      "3 pairs in 15 nights ['H <=22.0 @ 63229.00'] [ 0.70065299]\n",
      "3 pairs in 20 nights ['H <=22.0 @ 63229.00'] [ 0.70842489]\n",
      "3 pairs in 25 nights ['H <=22.0 @ 63229.00'] [ 0.71515535]\n",
      "3 pairs in 30 nights ['H <=22.0 @ 63229.00'] [ 0.72162124]\n",
      "4 pairs in 20 nights ['H <=22.0 @ 63229.00'] [ 0.65726505]\n",
      "3 pairs in 15 nights trailing loss ['H <=22.0 @ 63229.00'] [ 0.70047938]\n",
      "3 pairs in 30 nights trailing loss ['H <=22.0 @ 63229.00'] [ 0.72112483]\n",
      "3 pairs in 15 nights SNReq4 ['H <=22.0 @ 63229.00'] [ 0.73150312]\n",
      "3 pairs in 30 nights SNReq4 ['H <=22.0 @ 63229.00'] [ 0.75141154]\n",
      "3 pairs in 15 nights trailing loss SNReq4 ['H <=22.0 @ 63229.00'] [ 0.73150312]\n",
      "3 pairs in 30 nights trailing loss SNReq4 ['H <=22.0 @ 63229.00'] [ 0.75141154]\n",
      "Single detection ['H <=22.0 @ 63229.00'] [ 0.84789897]\n",
      "Single pair ['H <=22.0 @ 63229.00'] [ 0.81416481]\n",
      "3 pairs in 15 nights SNReq0 ['H <=22.0 @ 63229.00'] [ 0.9356]\n",
      "6 detections in 60 nights yr 10 ['H <= 22.000000'] [ 0.83597426]\n"
     ]
    }
   ],
   "source": [
    "# minion_1016\n",
    "Hidx = np.where(Hrange ==22)\n",
    "for strat in strategy:\n",
    "    try:\n",
    "        print(strat, timebundles[strat].summaryValues['CumulativeCompleteness@Time']['name'][yr10idx],\n",
    "             timebundles[strat].summaryValues['CumulativeCompleteness@Time']['value'][yr10idx])\n",
    "    except:\n",
    "        print(strat, timebundles[strat].summaryValues['CumulativeCompleteness']['name'][Hidx],\n",
    "             timebundles[strat].summaryValues['CumulativeCompleteness']['value'][Hidx])"
   ]
  },
  {
   "cell_type": "code",
   "execution_count": 70,
   "metadata": {},
   "outputs": [
    {
     "name": "stdout",
     "output_type": "stream",
     "text": [
      "3 pairs in 12 nights ['H <=22.0 @ 63499.00'] [ 0.66976778]\n",
      "3 pairs in 15 nights ['H <=22.0 @ 63499.00'] [ 0.6773945]\n",
      "3 pairs in 20 nights ['H <=22.0 @ 63499.00'] [ 0.68375953]\n",
      "3 pairs in 25 nights ['H <=22.0 @ 63499.00'] [ 0.68904486]\n",
      "3 pairs in 30 nights ['H <=22.0 @ 63499.00'] [ 0.69425086]\n",
      "4 pairs in 20 nights ['H <=22.0 @ 63499.00'] [ 0.635764]\n",
      "3 pairs in 15 nights trailing loss ['H <=22.0 @ 63499.00'] [ 0.67605396]\n",
      "3 pairs in 30 nights trailing loss ['H <=22.0 @ 63499.00'] [ 0.69507109]\n",
      "3 pairs in 15 nights SNReq4 ['H <=22.0 @ 63499.00'] [ 0.70347042]\n",
      "3 pairs in 30 nights SNReq4 ['H <=22.0 @ 63499.00'] [ 0.72029171]\n",
      "Single detection ['H <=22.0 @ 63499.00'] [ 0.82004253]\n",
      "Single pair ['H <=22.0 @ 63499.00'] [ 0.78185912]\n"
     ]
    }
   ],
   "source": [
    "# astro-lsst-01_2013\n",
    "for strat in strategy:\n",
    "    print(strat, timebundles[strat].summaryValues['CumulativeCompleteness@Time']['name'][yr10idx],\n",
    "         timebundles[strat].summaryValues['CumulativeCompleteness@Time']['value'][yr10idx])"
   ]
  },
  {
   "cell_type": "code",
   "execution_count": null,
   "metadata": {
    "collapsed": true
   },
   "outputs": [],
   "source": []
  }
 ],
 "metadata": {
  "kernelspec": {
   "display_name": "Python 3",
   "language": "python",
   "name": "python3"
  },
  "language_info": {
   "codemirror_mode": {
    "name": "ipython",
    "version": 3
   },
   "file_extension": ".py",
   "mimetype": "text/x-python",
   "name": "python",
   "nbconvert_exporter": "python",
   "pygments_lexer": "ipython3",
   "version": "3.6.3"
  }
 },
 "nbformat": 4,
 "nbformat_minor": 2
}
