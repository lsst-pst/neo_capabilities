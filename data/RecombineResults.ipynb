{
 "cells": [
  {
   "cell_type": "code",
   "execution_count": 1,
   "metadata": {
    "collapsed": true
   },
   "outputs": [],
   "source": [
    "import os\n",
    "from glob import glob\n",
    "import numpy as np\n",
    "import numpy.ma as ma\n",
    "import pandas as pd\n",
    "import matplotlib.pyplot as plt\n",
    "%matplotlib inline"
   ]
  },
  {
   "cell_type": "code",
   "execution_count": 2,
   "metadata": {
    "collapsed": true
   },
   "outputs": [],
   "source": [
    "import lsst.sims.maf.metricBundles as mb\n",
    "import lsst.sims.maf.plots as plots\n",
    "import lsst.sims.maf.metrics as metrics\n",
    "import lsst.sims.maf.slicers as slicers"
   ]
  },
  {
   "cell_type": "code",
   "execution_count": 4,
   "metadata": {},
   "outputs": [],
   "source": [
    "import sys\n",
    "sys.path.append(os.path.join(os.getenv('SIMS_MAF_DIR'), 'bin.src'))\n",
    "import movingObjects as moO"
   ]
  },
  {
   "cell_type": "code",
   "execution_count": 5,
   "metadata": {
    "collapsed": true
   },
   "outputs": [],
   "source": [
    "runname = 'astro-lsst-01_2013'\n",
    "ddir = os.path.join('pha_split_res', runname)\n",
    "outdir = runname + 'pha'\n",
    "orbitFile = 'orbits/pha_5k'"
   ]
  },
  {
   "cell_type": "code",
   "execution_count": 6,
   "metadata": {
    "collapsed": true
   },
   "outputs": [],
   "source": [
    "slicer = slicers.MoObjSlicer()\n",
    "slicer.readOrbits(orbitFile, Hrange=np.arange(11, 28.5, 0.5))"
   ]
  },
  {
   "cell_type": "code",
   "execution_count": 7,
   "metadata": {},
   "outputs": [
    {
     "data": {
      "text/plain": [
       "['pha_5k_00',\n",
       " 'pha_5k_01',\n",
       " 'pha_5k_02',\n",
       " 'pha_5k_03',\n",
       " 'pha_5k_04',\n",
       " 'pha_5k_05',\n",
       " 'pha_5k_06',\n",
       " 'pha_5k_07',\n",
       " 'pha_5k_08',\n",
       " 'pha_5k_09']"
      ]
     },
     "execution_count": 7,
     "metadata": {},
     "output_type": "execute_result"
    }
   ],
   "source": [
    "pha_splits = os.listdir('orbits/pha_split')\n",
    "pha_splits"
   ]
  },
  {
   "cell_type": "code",
   "execution_count": 8,
   "metadata": {
    "collapsed": true
   },
   "outputs": [],
   "source": [
    "# Read split results.\n",
    "# ex: astro_lsst_01_1016_Discovery_Time_pha_5k_06_3_pairs_in_12_nights_MOOB.h5\n",
    "strategy = ['3 pairs in 12 nights', '3 pairs in 15 nights', '3 pairs in 20 nights', \n",
    "            '3 pairs in 25 nights', '3 pairs in 30 nights', '4 pairs in 20 nights']\n",
    "bundles = {}\n",
    "for strat in strategy:\n",
    "    bundles[strat] = {}\n",
    "    for spl in pha_splits:\n",
    "        filematch = os.path.join(ddir, runname + \"_Discovery_Time*\" + \"*\" + spl + \"*\" + \n",
    "                                 strat.replace(' ', '_') + \"*h5\")\n",
    "        filename = glob(filematch)[0]\n",
    "        bundles[strat][spl] = mb.createEmptyMoMetricBundle()\n",
    "        bundles[strat][spl].read(filename)\n",
    "        Hrange = bundles[strat][spl].slicer.Hrange\n",
    "        bundles[strat][spl].slicer = slicer\n",
    "        bundles[strat][spl].slicer.Hrange = Hrange"
   ]
  },
  {
   "cell_type": "code",
   "execution_count": 9,
   "metadata": {
    "collapsed": true
   },
   "outputs": [],
   "source": [
    "# Join results.\n",
    "times = np.arange(59579, 65055.15+5, 10)\n",
    "summaryMetrics = [metrics.MoCompletenessAtTimeMetric(times=times, Hval=22,cumulative=False, Hindex=0.33),\n",
    "                  metrics.MoCompletenessAtTimeMetric(times=times, Hval=22, cumulative=True, Hindex=0.33)]\n",
    "\n",
    "\n",
    "timebundles = {}\n",
    "for strat in strategy:\n",
    "    filematch = os.path.join(ddir, runname + \"_Discovery_Time*\" + \"*pha_5k_00*\" + strat.replace(' ', '_') + \"*h5\")\n",
    "    filename = glob(filematch)[0]\n",
    "    timebundles[strat] = mb.createEmptyMoMetricBundle()\n",
    "    timebundles[strat].read(filename)\n",
    "    timebundles[strat].fileRoot = timebundles[strat].fileRoot.replace('_00', '')\n",
    "    Hrange1 = timebundles[strat].slicer.Hrange\n",
    "    timebundles[strat].slicer = slicer\n",
    "    timebundles[strat].slicer.Hrange = Hrange1\n",
    "    mvals = np.zeros((len(slicer.orbits), len(Hrange1)), float)\n",
    "    mvalsMask = np.ones((len(slicer.orbits), len(Hrange1)), dtype=bool)\n",
    "    for spl in pha_splits:\n",
    "        if np.any(np.not_equal(bundles[strat][spl].slicer.Hrange, Hrange1)):\n",
    "            raise ValueError('Incompatible results, Hrange varies')\n",
    "        mvals = mvals + bundles[strat][spl].metricValues.filled(0)\n",
    "        mvalsMask = np.where(mvalsMask & bundles[strat][spl].metricValues.mask, True, False)\n",
    "    timebundles[strat].metricValues = ma.MaskedArray(data=mvals, mask=mvalsMask, fill_value=0)\n",
    "    timebundles[strat].metadata = 'PHA ' + strat\n",
    "    timebundles[strat].runname = runname\n",
    "    timebundles[strat].setSummaryMetrics(summaryMetrics)\n",
    "    timebundles[strat].computeSummaryStats()\n",
    "    timebundles[strat].write()"
   ]
  },
  {
   "cell_type": "code",
   "execution_count": 10,
   "metadata": {},
   "outputs": [
    {
     "data": {
      "text/plain": [
       "63503"
      ]
     },
     "execution_count": 10,
     "metadata": {},
     "output_type": "execute_result"
    }
   ],
   "source": [
    "# old runs : 59580 start \n",
    "# v4 runs: 59853 start\n",
    "59853 + 365 *10"
   ]
  },
  {
   "cell_type": "code",
   "execution_count": 11,
   "metadata": {},
   "outputs": [
    {
     "data": {
      "text/plain": [
       "(array([392]), array([ 63499.]))"
      ]
     },
     "execution_count": 11,
     "metadata": {},
     "output_type": "execute_result"
    }
   ],
   "source": [
    "diff = np.abs(times-63503.50)\n",
    "idx = np.where(diff == np.min(diff))[0]\n",
    "idx, times[idx]"
   ]
  },
  {
   "cell_type": "code",
   "execution_count": 20,
   "metadata": {},
   "outputs": [
    {
     "name": "stdout",
     "output_type": "stream",
     "text": [
      "3 pairs in 12 nights ['H <=22.0 @ 63959.00'] [ 0.74128294]\n",
      "3 pairs in 15 nights ['H <=22.0 @ 63959.00'] [ 0.75043703]\n",
      "3 pairs in 20 nights ['H <=22.0 @ 63959.00'] [ 0.7584721]\n",
      "3 pairs in 25 nights ['H <=22.0 @ 63959.00'] [ 0.76503545]\n",
      "3 pairs in 30 nights ['H <=22.0 @ 63959.00'] [ 0.77098024]\n",
      "4 pairs in 20 nights ['H <=22.0 @ 63959.00'] [ 0.7019879]\n"
     ]
    }
   ],
   "source": [
    "# astro-lsst-01-1016\n",
    "for strat in strategy:\n",
    "    print(strat, timebundles[strat].summaryValues['CumulativeCompleteness@Time']['name'][idx],\n",
    "         timebundles[strat].summaryValues['CumulativeCompleteness@Time']['value'][idx])"
   ]
  },
  {
   "cell_type": "code",
   "execution_count": 22,
   "metadata": {},
   "outputs": [
    {
     "name": "stdout",
     "output_type": "stream",
     "text": [
      "3 pairs in 12 nights ['H <=22.0 @ 63229.00'] [ 0.70072872]\n",
      "3 pairs in 15 nights ['H <=22.0 @ 63229.00'] [ 0.71008376]\n",
      "3 pairs in 20 nights ['H <=22.0 @ 63229.00'] [ 0.71860778]\n",
      "3 pairs in 25 nights ['H <=22.0 @ 63229.00'] [ 0.72563463]\n",
      "3 pairs in 30 nights ['H <=22.0 @ 63229.00'] [ 0.7321288]\n",
      "4 pairs in 20 nights ['H <=22.0 @ 63229.00'] [ 0.65956568]\n"
     ]
    }
   ],
   "source": [
    "# astro-lsst-01_1016 @ time 10 years\n",
    "diff = np.abs(times-63230.5)\n",
    "idx = np.where(diff == np.min(diff))[0]\n",
    "idx, times[idx]\n",
    "for strat in strategy:\n",
    "    print(strat, timebundles[strat].summaryValues['CumulativeCompleteness@Time']['name'][idx],\n",
    "         timebundles[strat].summaryValues['CumulativeCompleteness@Time']['value'][idx])"
   ]
  },
  {
   "cell_type": "code",
   "execution_count": 23,
   "metadata": {},
   "outputs": [
    {
     "name": "stdout",
     "output_type": "stream",
     "text": [
      "3 pairs in 12 nights ['H <=22.0 @ 65059.00'] [ 0.78152201]\n",
      "3 pairs in 15 nights ['H <=22.0 @ 65059.00'] [ 0.78909266]\n",
      "3 pairs in 20 nights ['H <=22.0 @ 65059.00'] [ 0.79669691]\n",
      "3 pairs in 25 nights ['H <=22.0 @ 65059.00'] [ 0.80288782]\n",
      "3 pairs in 30 nights ['H <=22.0 @ 65059.00'] [ 0.80827317]\n",
      "4 pairs in 20 nights ['H <=22.0 @ 65059.00'] [ 0.74443137]\n"
     ]
    }
   ],
   "source": [
    "# astro-lsst-01_1016 @ time 15 years\n",
    "diff = np.abs(times-65055.5)\n",
    "idx = np.where(diff == np.min(diff))[0]\n",
    "idx, times[idx]\n",
    "for strat in strategy:\n",
    "    print(strat, timebundles[strat].summaryValues['CumulativeCompleteness@Time']['name'][idx],\n",
    "         timebundles[strat].summaryValues['CumulativeCompleteness@Time']['value'][idx])"
   ]
  },
  {
   "cell_type": "code",
   "execution_count": 177,
   "metadata": {},
   "outputs": [
    {
     "name": "stdout",
     "output_type": "stream",
     "text": [
      "3 pairs in 12 nights ['H <=22.0 @ 63959.00'] [ 0.74067693]\n",
      "3 pairs in 15 nights ['H <=22.0 @ 63959.00'] [ 0.75258709]\n",
      "3 pairs in 20 nights ['H <=22.0 @ 63959.00'] [ 0.76580289]\n",
      "3 pairs in 25 nights ['H <=22.0 @ 63959.00'] [ 0.77648192]\n",
      "3 pairs in 30 nights ['H <=22.0 @ 63959.00'] [ 0.783748]\n",
      "4 pairs in 20 nights ['H <=22.0 @ 63959.00'] [ 0.68678541]\n"
     ]
    }
   ],
   "source": [
    "# astro-lsst-01-1015\n",
    "for strat in strategy:\n",
    "    print(strat, timebundles[strat].summaryValues['CumulativeCompleteness@Time']['name'][idx],\n",
    "         timebundles[strat].summaryValues['CumulativeCompleteness@Time']['value'][idx])"
   ]
  },
  {
   "cell_type": "code",
   "execution_count": 161,
   "metadata": {},
   "outputs": [
    {
     "name": "stdout",
     "output_type": "stream",
     "text": [
      "3 pairs in 12 nights ['H <=22.0 @ 63959.00'] [ 0.75494339]\n",
      "3 pairs in 15 nights ['H <=22.0 @ 63959.00'] [ 0.76501288]\n",
      "3 pairs in 20 nights ['H <=22.0 @ 63959.00'] [ 0.77603137]\n",
      "3 pairs in 25 nights ['H <=22.0 @ 63959.00'] [ 0.7836424]\n",
      "3 pairs in 30 nights ['H <=22.0 @ 63959.00'] [ 0.78993808]\n",
      "4 pairs in 20 nights ['H <=22.0 @ 63959.00'] [ 0.71164474]\n"
     ]
    }
   ],
   "source": [
    "# astro-lsst-01-1017\n",
    "for strat in strategy:\n",
    "    print(strat, timebundles[strat].summaryValues['CumulativeCompleteness@Time']['name'][idx],\n",
    "         timebundles[strat].summaryValues['CumulativeCompleteness@Time']['value'][idx])"
   ]
  },
  {
   "cell_type": "code",
   "execution_count": 12,
   "metadata": {},
   "outputs": [
    {
     "name": "stdout",
     "output_type": "stream",
     "text": [
      "3 pairs in 12 nights ['H <=22.0 @ 63959.00'] [ 0.69440213]\n",
      "3 pairs in 15 nights ['H <=22.0 @ 63959.00'] [ 0.70065299]\n",
      "3 pairs in 20 nights ['H <=22.0 @ 63959.00'] [ 0.70842489]\n",
      "3 pairs in 25 nights ['H <=22.0 @ 63959.00'] [ 0.71515535]\n",
      "3 pairs in 30 nights ['H <=22.0 @ 63959.00'] [ 0.72162124]\n",
      "4 pairs in 20 nights ['H <=22.0 @ 63959.00'] [ 0.65726505]\n"
     ]
    }
   ],
   "source": [
    "# minion_1016\n",
    "for strat in strategy:\n",
    "    print(strat, timebundles[strat].summaryValues['CumulativeCompleteness@Time']['name'][idx],\n",
    "         timebundles[strat].summaryValues['CumulativeCompleteness@Time']['value'][idx])"
   ]
  },
  {
   "cell_type": "code",
   "execution_count": 12,
   "metadata": {},
   "outputs": [
    {
     "name": "stdout",
     "output_type": "stream",
     "text": [
      "3 pairs in 12 nights ['H <=22.0 @ 63499.00'] [ 0.66976778]\n",
      "3 pairs in 15 nights ['H <=22.0 @ 63499.00'] [ 0.6773945]\n",
      "3 pairs in 20 nights ['H <=22.0 @ 63499.00'] [ 0.68375953]\n",
      "3 pairs in 25 nights ['H <=22.0 @ 63499.00'] [ 0.68904486]\n",
      "3 pairs in 30 nights ['H <=22.0 @ 63499.00'] [ 0.69425086]\n",
      "4 pairs in 20 nights ['H <=22.0 @ 63499.00'] [ 0.635764]\n"
     ]
    }
   ],
   "source": [
    "# astro-lsst-01_2013\n",
    "for strat in strategy:\n",
    "    print(strat, timebundles[strat].summaryValues['CumulativeCompleteness@Time']['name'][idx],\n",
    "         timebundles[strat].summaryValues['CumulativeCompleteness@Time']['value'][idx])"
   ]
  },
  {
   "cell_type": "code",
   "execution_count": null,
   "metadata": {
    "collapsed": true
   },
   "outputs": [],
   "source": []
  }
 ],
 "metadata": {
  "kernelspec": {
   "display_name": "Python 3",
   "language": "python",
   "name": "python3"
  },
  "language_info": {
   "codemirror_mode": {
    "name": "ipython",
    "version": 3
   },
   "file_extension": ".py",
   "mimetype": "text/x-python",
   "name": "python",
   "nbconvert_exporter": "python",
   "pygments_lexer": "ipython3",
   "version": "3.6.2"
  }
 },
 "nbformat": 4,
 "nbformat_minor": 2
}
