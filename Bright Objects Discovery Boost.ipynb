{
 "cells": [
  {
   "cell_type": "markdown",
   "metadata": {},
   "source": [
    "Purpose: To investigate what fraction of the PHAs (or NEOs) might be discovered before or during LSST operations by other telescope, and then add these to LSST's total to see the effect of LSST + previous discoveries. \n",
    "\n",
    "As we use synthetic model populations (not actual populations) and do not know the survey pointing history for previous surveys, we simulate what would have been \"previously discovered\" by taking our model population and identifying a V magnitude threshhold which matches approximately what is known now or what will be known at the start of LSST operations. \n",
    "\n",
    "As a proxy for simulating the entire population + pointing histories for existing surveys, we can assume that all NEOs larger than 140m which get brighter than a given V magnitude threshhold will be discovered. Spacewatch has been in operation since 1984, CSS has been a considerable influence in NEO discovery since 2005, etc. According to the JPL NEO discovery page (http://neo.jpl.nasa.gov/stats/) we could estimate conservatively that discovery of 140m NEOs started in earnest in 2000 -- implying (a conservative) 15 years to reach the current 25% level (and the discovery rate of 140m and larger NEOs seems roughly constant over that time period, with a recent uptick of about 20% per year).  GMS16 (https://arxiv.org/pdf/1604.03444v1.pdf) indicates that the current completeness of NEOs larger than 140m is about 25% (Mainzer et al 2011) and is expected to be 43% when LSST comes online.\n",
    "\n",
    "Thus we take our sample of NEOs, integrate their orbits over 15 years (generating ephemerides once per night), and look at their peak brightness over that time period. We then choose a peak brightness threshhold that corresponds to detecting 25% of the total NEOs larger than 140m (H=22). "
   ]
  },
  {
   "cell_type": "code",
   "execution_count": 1,
   "metadata": {
    "collapsed": false
   },
   "outputs": [],
   "source": [
    "import os \n",
    "import numpy as np\n",
    "import numpy.ma as ma\n",
    "import matplotlib.pyplot as plt\n",
    "%matplotlib inline"
   ]
  },
  {
   "cell_type": "markdown",
   "metadata": {},
   "source": [
    "Read bright object observations. I've generated ephemerides over 15 years from 2000 to 2015 (corresponding to the 15 years leading up to 'now' described above), for both NEOs and PHAs. By picking the correct V mag threshhold, we should see about 25% completeness at H=22. I've also generated ephemerides of the same objects reaching all the way to the start of LSST operations (2022), so as to calculate the expected completeness at the start of LSST operations (GMS16 indicate this should be about 43%). "
   ]
  },
  {
   "cell_type": "code",
   "execution_count": 2,
   "metadata": {
    "collapsed": false
   },
   "outputs": [],
   "source": [
    "import pandas as pd\n",
    "ephemFile = {}\n",
    "ephemFile['pha15'] = '/Users/lynnej/ephems/phas_15.dat'  # PHA ephems from 2000-2015\n",
    "ephemFile['neo15'] = '/Users/lynnej/ephems/neos_15.dat'  # NEO ephems from 2000-2015\n",
    "ephemFile['pha22'] = '/Users/lynnej/ephems/phas_22.dat'  # PHA ephems from 2000-2022\n",
    "ephemFile['neo22'] = '/Users/lynnej/ephems/neos_22.dat'  # NEO ephems from 2000-2022\n",
    "ephems = {}\n",
    "for t in ephemFile:\n",
    "    ephems[t] = pd.read_table(ephemFile[t], delim_whitespace=True)"
   ]
  },
  {
   "cell_type": "code",
   "execution_count": 3,
   "metadata": {
    "collapsed": true
   },
   "outputs": [],
   "source": [
    "# Add some columns to the ephem file - these are used to calculate appMagV.\n",
    "def add_velocity(ephs):\n",
    "    ephs['velocity'] = np.sqrt(ephs['dRAdt']**2 + ephs['dDecdt']**2)\n",
    "    return ephs\n",
    "\n",
    "def calcMagLosses(ephs, seeing=0.75, texp=30.):\n",
    "    \"\"\"\n",
    "    Calculate the magnitude losses due to trailing and not matching the point-source detection filter.\n",
    "    \"\"\"\n",
    "    a_trail = 0.76\n",
    "    b_trail = 1.16\n",
    "    a_det = 0.42\n",
    "    b_det = 0.00\n",
    "    x = ephs['velocity'] * texp / seeing / 24.0\n",
    "    ephs['dmagTrail'] = 1.25 * np.log10(1 + a_trail*x**2/(1+b_trail*x))\n",
    "    ephs['dmagDetect'] = 1.25 * np.log10(1 + a_det*x**2 / (1+b_det*x))\n",
    "    return ephs"
   ]
  },
  {
   "cell_type": "code",
   "execution_count": 4,
   "metadata": {
    "collapsed": true
   },
   "outputs": [],
   "source": [
    "# Add some more 'dummy' columns to ephem file - these just need to be there for SNR/vis/magFilter calculation, but\n",
    "# we won't use them for peakV / known object calculation.\n",
    "def add_dummycols(ephs):\n",
    "    ephs['magFilter'] = ephs['magV']\n",
    "    ephs['fiveSigmaDepth'] = np.ones(len(ephs), float) * 28.0\n",
    "    return ephs"
   ]
  },
  {
   "cell_type": "code",
   "execution_count": 5,
   "metadata": {
    "collapsed": false
   },
   "outputs": [],
   "source": [
    "for t in ephems:\n",
    "    ephems[t] = add_velocity(ephems[t])\n",
    "    ephems[t] = calcMagLosses(ephems[t])\n",
    "    ephems[t] = add_dummycols(ephems[t])\n",
    "    cols = ephems[t].columns.values\n",
    "    cols[0] = 'objId'\n",
    "    ephems[t].columns = cols"
   ]
  },
  {
   "cell_type": "code",
   "execution_count": 6,
   "metadata": {
    "collapsed": false
   },
   "outputs": [
    {
     "data": {
      "text/html": [
       "<div>\n",
       "<table border=\"1\" class=\"dataframe\">\n",
       "  <thead>\n",
       "    <tr style=\"text-align: right;\">\n",
       "      <th></th>\n",
       "      <th>objId</th>\n",
       "      <th>MJD(UTC)</th>\n",
       "      <th>RA</th>\n",
       "      <th>Dec</th>\n",
       "      <th>dRAdt</th>\n",
       "      <th>dDecdt</th>\n",
       "      <th>Delta</th>\n",
       "      <th>magV</th>\n",
       "      <th>Elongation</th>\n",
       "      <th>velocity</th>\n",
       "      <th>dmagTrail</th>\n",
       "      <th>dmagDetect</th>\n",
       "      <th>magFilter</th>\n",
       "      <th>fiveSigmaDepth</th>\n",
       "    </tr>\n",
       "  </thead>\n",
       "  <tbody>\n",
       "    <tr>\n",
       "      <th>0</th>\n",
       "      <td>1</td>\n",
       "      <td>51544.16</td>\n",
       "      <td>277.368902</td>\n",
       "      <td>-20.498749</td>\n",
       "      <td>0.401307</td>\n",
       "      <td>0.039902</td>\n",
       "      <td>3.694117</td>\n",
       "      <td>15.497170</td>\n",
       "      <td>4.168532</td>\n",
       "      <td>0.403285</td>\n",
       "      <td>0.095767</td>\n",
       "      <td>0.094318</td>\n",
       "      <td>15.497170</td>\n",
       "      <td>28.0</td>\n",
       "    </tr>\n",
       "    <tr>\n",
       "      <th>1</th>\n",
       "      <td>1</td>\n",
       "      <td>51545.16</td>\n",
       "      <td>277.793599</td>\n",
       "      <td>-20.458428</td>\n",
       "      <td>0.401481</td>\n",
       "      <td>0.041179</td>\n",
       "      <td>3.691638</td>\n",
       "      <td>15.511805</td>\n",
       "      <td>4.662041</td>\n",
       "      <td>0.403587</td>\n",
       "      <td>0.095870</td>\n",
       "      <td>0.094447</td>\n",
       "      <td>15.511805</td>\n",
       "      <td>28.0</td>\n",
       "    </tr>\n",
       "    <tr>\n",
       "      <th>2</th>\n",
       "      <td>1</td>\n",
       "      <td>51546.16</td>\n",
       "      <td>278.218350</td>\n",
       "      <td>-20.416818</td>\n",
       "      <td>0.401636</td>\n",
       "      <td>0.042458</td>\n",
       "      <td>3.688993</td>\n",
       "      <td>15.526632</td>\n",
       "      <td>5.182572</td>\n",
       "      <td>0.403874</td>\n",
       "      <td>0.095967</td>\n",
       "      <td>0.094570</td>\n",
       "      <td>15.526632</td>\n",
       "      <td>28.0</td>\n",
       "    </tr>\n",
       "  </tbody>\n",
       "</table>\n",
       "</div>"
      ],
      "text/plain": [
       "   objId  MJD(UTC)          RA        Dec     dRAdt    dDecdt     Delta  \\\n",
       "0      1  51544.16  277.368902 -20.498749  0.401307  0.039902  3.694117   \n",
       "1      1  51545.16  277.793599 -20.458428  0.401481  0.041179  3.691638   \n",
       "2      1  51546.16  278.218350 -20.416818  0.401636  0.042458  3.688993   \n",
       "\n",
       "        magV  Elongation  velocity  dmagTrail  dmagDetect  magFilter  \\\n",
       "0  15.497170    4.168532  0.403285   0.095767    0.094318  15.497170   \n",
       "1  15.511805    4.662041  0.403587   0.095870    0.094447  15.511805   \n",
       "2  15.526632    5.182572  0.403874   0.095967    0.094570  15.526632   \n",
       "\n",
       "   fiveSigmaDepth  \n",
       "0            28.0  \n",
       "1            28.0  \n",
       "2            28.0  "
      ]
     },
     "execution_count": 6,
     "metadata": {},
     "output_type": "execute_result"
    }
   ],
   "source": [
    "ephems['neo15'][0:3]"
   ]
  },
  {
   "cell_type": "markdown",
   "metadata": {},
   "source": [
    "Set up MAF. We will use both observations from LSST to calculate the actual objects LSST will discover, and the ephemerides above to calculate what could have been discovered previously."
   ]
  },
  {
   "cell_type": "code",
   "execution_count": 7,
   "metadata": {
    "collapsed": false
   },
   "outputs": [],
   "source": [
    "import lsst.sims.maf.metrics as metrics\n",
    "import lsst.sims.maf.slicers as slicers\n",
    "import lsst.sims.maf.plots as plots\n",
    "import lsst.sims.maf.db as db\n",
    "import lsst.sims.maf.metricBundles as mmb\n",
    "import lsst.sims.maf.utils as utils"
   ]
  },
  {
   "cell_type": "code",
   "execution_count": 8,
   "metadata": {
    "collapsed": false
   },
   "outputs": [
    {
     "name": "stderr",
     "output_type": "stream",
     "text": [
      "/Users/lynnej/anaconda/lib/python2.7/site-packages/matplotlib/__init__.py:1357: UserWarning:  This call to matplotlib.use() has no effect\n",
      "because the backend has already been chosen;\n",
      "matplotlib.use() must be called *before* pylab, matplotlib.pyplot,\n",
      "or matplotlib.backends is imported for the first time.\n",
      "\n",
      "  warnings.warn(_use_error_msg)\n"
     ]
    }
   ],
   "source": [
    "import sys\n",
    "try:\n",
    "    sys.path.remove('/Users/lynnej/work/lsst')\n",
    "except ValueError:\n",
    "    pass\n",
    "sys.path.append(os.path.join(os.getenv('SIMS_MAF_DIR'), 'bin'))\n",
    "import movingObjects as moO"
   ]
  },
  {
   "cell_type": "code",
   "execution_count": 9,
   "metadata": {
    "collapsed": true
   },
   "outputs": [],
   "source": [
    "orbitFile = {}\n",
    "orbitFile['pha'] = 'orbits/pha20141031.des'\n",
    "orbitFile['neo'] = 'orbits/neos_2k.des'"
   ]
  },
  {
   "cell_type": "code",
   "execution_count": 10,
   "metadata": {
    "collapsed": true
   },
   "outputs": [],
   "source": [
    "Hmark = 22\n",
    "Hrange = np.arange(11, 28.5, 0.5)\n",
    "Hidx = np.where(Hrange == 22)[0]\n",
    "outDir = 'test'\n",
    "if not (os.path.isdir(outDir)):\n",
    "    os.makedirs(outDir)"
   ]
  },
  {
   "cell_type": "code",
   "execution_count": 11,
   "metadata": {
    "collapsed": false
   },
   "outputs": [],
   "source": [
    "# Set up the moving object slicers for each of these ephemeride files.\n",
    "slicerEphs =  {}\n",
    "for t in ephems:\n",
    "    slicerEphs[t] = moO.setupSlicer(orbitFile[t[0:3]], Hrange, obsFile=None)\n",
    "    slicerEphs[t].obs = ephems[t]\n",
    "    slicerEphs[t].allObs = ephems[t]\n",
    "    slicerEphs[t].obsfile = ephemFile[t]"
   ]
  },
  {
   "cell_type": "code",
   "execution_count": 12,
   "metadata": {
    "collapsed": false
   },
   "outputs": [],
   "source": [
    "# And set up the moving object metricBundles.\n",
    "plotFuncs = [plots.MetricVsH()]\n",
    "\n",
    "knownBundle = {}\n",
    "peakVBundle = {}\n",
    "for t in slicerEphs:\n",
    "    plotDict = {'nxbins': 200, 'nybins': 200,\n",
    "                'title': '%s: %s' % (\"Previously known\", t)}\n",
    "    \n",
    "    metric = metrics.KnownObjectsMetric(vMagThresh=20.0)\n",
    "    knownBundle[t] = mmb.MoMetricBundle(metric, slicerEphs[t], None, \n",
    "                                        runName=\"Previously known\", metadata=t,\n",
    "                                        plotDict=plotDict, plotFuncs=plotFuncs)\n",
    "\n",
    "    metric = metrics.PeakVMagMetric()\n",
    "    peakVBundle[t] = mmb.MoMetricBundle(metric, slicerEphs[t], None,\n",
    "                                        runName=\"Previously known\", metadata=t,\n",
    "                                        plotDict=plotDict, plotFuncs=plotFuncs)"
   ]
  },
  {
   "cell_type": "code",
   "execution_count": 13,
   "metadata": {
    "collapsed": false
   },
   "outputs": [
    {
     "name": "stdout",
     "output_type": "stream",
     "text": [
      "Running metrics [0, 1]\n"
     ]
    },
    {
     "name": "stderr",
     "output_type": "stream",
     "text": [
      "/Users/lynnej/lsstRepos/sims_maf/python/lsst/sims/maf/stackers/baseStacker.py:121: UserWarning: Warning - column appMagV already present in simData, will be overwritten.\n",
      "  %(col))\n",
      "/Users/lynnej/lsstRepos/sims_maf/python/lsst/sims/maf/stackers/baseStacker.py:121: UserWarning: Warning - column appMag already present in simData, will be overwritten.\n",
      "  %(col))\n",
      "/Users/lynnej/lsstRepos/sims_maf/python/lsst/sims/maf/stackers/baseStacker.py:121: UserWarning: Warning - column SNR already present in simData, will be overwritten.\n",
      "  %(col))\n",
      "/Users/lynnej/lsstRepos/sims_maf/python/lsst/sims/maf/stackers/baseStacker.py:121: UserWarning: Warning - column vis already present in simData, will be overwritten.\n",
      "  %(col))\n"
     ]
    },
    {
     "name": "stdout",
     "output_type": "stream",
     "text": [
      "Calculated and saved all metrics.\n",
      "Running metrics [0, 1]\n",
      "Calculated and saved all metrics.\n",
      "Running metrics [0, 1]\n",
      "Calculated and saved all metrics.\n",
      "Running metrics [0, 1]\n",
      "Calculated and saved all metrics.\n"
     ]
    }
   ],
   "source": [
    "# Calculate  the peak V magnitude and associated known/unknown flags for each object\n",
    "for t in slicerEphs:\n",
    "    bg = mmb.MoMetricBundleGroup({0:knownBundle[t], 1: peakVBundle[t]}, outDir=outDir, resultsDb=None)\n",
    "    bg.runAll()"
   ]
  },
  {
   "cell_type": "markdown",
   "metadata": {},
   "source": [
    "We need to calculate the V magnitude threshhold corresponding to discovering 25% of NEOs bigger than H=22 between 2000-2015 (i.e., in the 15 year sample). For this we just look at all peak V magnitudes, and look at the sample 'completeness' corresponding to varying the V magnitude threshhold. \n",
    "\n",
    "We find that 25% corresponds to a V threshhold of 20.0, which is very roughly consistent with limiting magnitudes of the biggest contributors -- Catalina Sky Survey can go to V=21.5, although threshholds described as 19-21 (probably across different weather and lunar phase?), and PS1 can go to V=22 although again much variety (especially when including moving object pipeline stuff?). "
   ]
  },
  {
   "cell_type": "code",
   "execution_count": 14,
   "metadata": {
    "collapsed": false
   },
   "outputs": [],
   "source": [
    "def calcFrac(peakVmags, Hvals, Vthresh, cumulative=True):\n",
    "    nSsos = peakVmags.shape[0]\n",
    "    peakVinH = peakVmags.swapaxes(0, 1)\n",
    "    completeness = np.zeros(len(Hvals), float)\n",
    "    for i, H in enumerate(Hvals):\n",
    "        completeness[i] = np.where(peakVinH[i].filled(100) <= Vthresh)[0].size\n",
    "    completeness = completeness / float(nSsos)\n",
    "    if cumulative:\n",
    "        completeness = metrics.integrateOverH(completeness, Hvals)\n",
    "    return completeness"
   ]
  },
  {
   "cell_type": "code",
   "execution_count": 46,
   "metadata": {
    "collapsed": false
   },
   "outputs": [
    {
     "name": "stdout",
     "output_type": "stream",
     "text": [
      "At 20.000000 Vmag threshhold, find 0.257953 completeness for H<=22\n"
     ]
    }
   ],
   "source": [
    "# Find the V mag threshhold corresponding to 25% completeness for H<=22, at the present time.\n",
    "thresh = 20.0\n",
    "comp = calcFrac(peakVBundle['neo15'].metricValues, Hrange, thresh)\n",
    "print \"At %f Vmag threshhold, find %f completeness for H<=22\" % (thresh, comp[Hidx][0])"
   ]
  },
  {
   "cell_type": "code",
   "execution_count": 48,
   "metadata": {
    "collapsed": false
   },
   "outputs": [
    {
     "name": "stdout",
     "output_type": "stream",
     "text": [
      "At bright end, 1km objects, find 0.953638 completeness\n"
     ]
    }
   ],
   "source": [
    "# But we should also match the completeness estimate for 1 km objects (17.75, or about 18), which is around 90%.\n",
    "print \"At bright end, 1km objects, find %f completeness\" % (comp[np.where(Hrange==18)])"
   ]
  },
  {
   "cell_type": "code",
   "execution_count": 50,
   "metadata": {
    "collapsed": false
   },
   "outputs": [
    {
     "name": "stdout",
     "output_type": "stream",
     "text": [
      "At start of LSST operations, with same Vmag threshhold, expect 0.295974 completeness H<=22\n"
     ]
    }
   ],
   "source": [
    "# Calculate what completeness would be with same rate/instrumentation at start of LSST.\n",
    "comp = calcFrac(peakVBundle['neo22'].metricValues, Hrange, 20.0)\n",
    "print 'At start of LSST operations, with same Vmag threshhold, expect %f completeness H<=22' % (comp[Hidx][0])"
   ]
  },
  {
   "cell_type": "code",
   "execution_count": 51,
   "metadata": {
    "collapsed": false,
    "scrolled": true
   },
   "outputs": [
    {
     "name": "stdout",
     "output_type": "stream",
     "text": [
      "Fraction of the NEO population @ h<=22 which never brighter than V=24 in 22 years: 0.030651\n"
     ]
    }
   ],
   "source": [
    "# Check one of Zeljko's numbers, which was fraction of the population which will not get brighter than V=24\n",
    "comp = calcFrac(peakVBundle['neo22'].metricValues, Hrange, 24)\n",
    "print \"Fraction of the NEO population @ h<=22 which never brighter than V=24 in 22 years: %f\" %(1 - comp[Hidx])"
   ]
  },
  {
   "cell_type": "markdown",
   "metadata": {},
   "source": [
    "So that tells us about what could have been discovered prior to LSST (and at the present time). \n",
    "\n",
    "Now let's look at what LSST would have found, with our more realistic discovery criteria (3 nights of pairs, within 15 days).  Read the discovery metric results back from disk, so we can look at what LSST would have found. "
   ]
  },
  {
   "cell_type": "code",
   "execution_count": 18,
   "metadata": {
    "collapsed": false
   },
   "outputs": [],
   "source": [
    "opsim = 'minion_1016'\n",
    "#opsim = 'astro_lsst_01_1016'\n",
    "obsFile = {}\n",
    "dataDir = {}\n",
    "obsFile['pha'] = os.path.join(opsim, '%s_newsky__%s' % (opsim, 'pha20141031_obs.txt'))\n",
    "dataDir['pha'] = os.path.join(opsim, 'pha_newsky')\n",
    "obsFile['neo'] = os.path.join(opsim, '%s_newsky__%s' % (opsim, 'neos_2k_obs.txt'))\n",
    "dataDir['neo'] = os.path.join(opsim, 'neo_newsky')\n",
    "\n",
    "maxYears = 10\n",
    "nyears = np.arange(2, maxYears+1, 2)\n",
    "nyears = np.concatenate([[1], nyears])\n",
    "if maxYears not in nyears:\n",
    "    nyears = np.concatenate([nyears, [maxYears]])"
   ]
  },
  {
   "cell_type": "code",
   "execution_count": 19,
   "metadata": {
    "collapsed": false
   },
   "outputs": [],
   "source": [
    "slicer = {}\n",
    "for  t in ['pha', 'neo']:\n",
    "    slicer[t] = moO.setupSlicer(orbitFile[t], Hrange, obsFile=obsFile[t])"
   ]
  },
  {
   "cell_type": "code",
   "execution_count": 20,
   "metadata": {
    "collapsed": false
   },
   "outputs": [],
   "source": [
    "strategy = '3 pairs in 15 nights'\n",
    "discovery = {}\n",
    "for t in ['pha', 'neo']:\n",
    "    plotDict = {'nxbins': 200, 'nybins': 200,\n",
    "                'title': '%s: %s' % (opsim, t)}\n",
    "    metric = metrics.DiscoveryMetric(nObsPerNight=2, tMin=0, tMax=90./60./24.,\n",
    "                                     nNightsPerWindow=3, tWindow=15)\n",
    "    discovery[t] = mmb.MoMetricBundle(metric, slicer[t], None,\n",
    "                                      runName=opsim, metadata=t,\n",
    "                                      plotDict=plotDict, plotFuncs=plotFuncs)\n",
    "    fileroot = ' '.join([opsim, 'Discovery_N_Chances_n3650', t.upper(), strategy, 'MOOB'])\n",
    "    discovery[t].fileRoot = utils.nameSanitize(fileroot)\n",
    "    discovery[t] = moO.readMetricValues(discovery[t], dataDir[t])"
   ]
  },
  {
   "cell_type": "code",
   "execution_count": 52,
   "metadata": {
    "collapsed": false
   },
   "outputs": [],
   "source": [
    "def discovery_boost(previouslyKnown, lsstDiscoveryChances, Hvals, cumulative=True):\n",
    "    previouslyKnown = np.where(previouslyKnown <= 20.0, 1, 0)\n",
    "    lsstFound = np.where(lsstDiscoveryChances >= 1, 1, 0)\n",
    "    boost = np.where((previouslyKnown == 1) & (lsstFound == 0), 1, 0)\n",
    "    nSsos = boost.shape[0]\n",
    "    boostH = boost.swapaxes(0, 1)\n",
    "    completeness = np.zeros(len(Hvals), float)\n",
    "    for i, H in enumerate(Hvals):\n",
    "        completeness[i] = np.where(boostH[i] == 1)[0].size\n",
    "    completeness = completeness / float(nSsos)\n",
    "    if cumulative:\n",
    "        completeness = metrics.integrateOverH(completeness, Hvals)\n",
    "    return completeness    "
   ]
  },
  {
   "cell_type": "code",
   "execution_count": 53,
   "metadata": {
    "collapsed": false
   },
   "outputs": [
    {
     "name": "stdout",
     "output_type": "stream",
     "text": [
      "Boost to LSST discovery of H<=22: 0.066395\n",
      "Boost to LSST discovery at the bright end: 0.094047\n"
     ]
    }
   ],
   "source": [
    "boost = discovery_boost(peakVBundle['neo22'].metricValues, discovery['neo'].metricValues, Hrange, cumulative=True)\n",
    "print \"Boost to LSST discovery of H<=22: %f\" % (boost[Hidx][0])\n",
    "print \"Boost to LSST discovery at the bright end: %f\" %(boost[[0]][0])"
   ]
  },
  {
   "cell_type": "markdown",
   "metadata": {},
   "source": [
    "We can also calculate the LSST 'completeness' in a manner similar as we did for other surveys above, using a simple set of nightly ephemerides and determing the equivalent V mag threshhold for LSST to reach a completeness similar to what we expected above. "
   ]
  },
  {
   "cell_type": "code",
   "execution_count": 65,
   "metadata": {
    "collapsed": false
   },
   "outputs": [],
   "source": [
    "lsstEphemFile = {}\n",
    "lsstEphemFile['pha'] = '/Users/lynnej/ephems/pha_10years.dat'  # PHA ephems from 2022-2032\n",
    "lsstEphemFile['neo'] = '/Users/lynnej/ephems/neos_10years.dat' # NEO ephems from 2022-2032\n",
    "lsstEphems = {}\n",
    "for t in lsstEphemFile:\n",
    "    lsstEphems[t] = pd.read_table(lsstEphemFile[t], delim_whitespace=True)"
   ]
  },
  {
   "cell_type": "code",
   "execution_count": 66,
   "metadata": {
    "collapsed": true
   },
   "outputs": [],
   "source": [
    "for t in lsstEphems:\n",
    "    lsstEphems[t] = add_velocity(lsstEphems[t])\n",
    "    lsstEphems[t] = calcMagLosses(lsstEphems[t])\n",
    "    lsstEphems[t] = add_dummycols(lsstEphems[t])\n",
    "    cols = lsstEphems[t].columns.values\n",
    "    cols[0] = 'objId'\n",
    "    lsstEphems[t].columns = cols"
   ]
  },
  {
   "cell_type": "code",
   "execution_count": 67,
   "metadata": {
    "collapsed": true
   },
   "outputs": [],
   "source": [
    "# Set up the moving object slicers for each of these ephemeride files.\n",
    "slicerLsstEphs =  {}\n",
    "for t in lsstEphems:\n",
    "    slicerLsstEphs[t] = moO.setupSlicer(orbitFile[t[0:3]], Hrange, obsFile=None)\n",
    "    slicerLsstEphs[t].obs = lsstEphems[t]\n",
    "    slicerLsstEphs[t].allObs = lsstEphems[t]\n",
    "    slicerLsstEphs[t].obsfile = lsstEphemFile[t]"
   ]
  },
  {
   "cell_type": "code",
   "execution_count": 68,
   "metadata": {
    "collapsed": false
   },
   "outputs": [],
   "source": [
    "# And set up the moving object metricBundles.\n",
    "plotFuncs = [plots.MetricVsH()]\n",
    "\n",
    "knownBundle = {}\n",
    "peakVBundle = {}\n",
    "for t in slicerLsstEphs:\n",
    "    plotDict = {'nxbins': 200, 'nybins': 200,\n",
    "                'title': '%s: %s' % (\"LSST discoveries\", t)}\n",
    "    metric = metrics.PeakVMagMetric()\n",
    "    peakVBundle[t] = mmb.MoMetricBundle(metric, slicerLsstEphs[t], None,\n",
    "                                        runName=\"LSST discoveries\", metadata=t,\n",
    "                                        plotDict=plotDict, plotFuncs=plotFuncs)"
   ]
  },
  {
   "cell_type": "code",
   "execution_count": 70,
   "metadata": {
    "collapsed": false
   },
   "outputs": [
    {
     "name": "stdout",
     "output_type": "stream",
     "text": [
      "Running metrics [0]\n",
      "Calculated and saved all metrics.\n",
      "Running metrics [0]\n",
      "Calculated and saved all metrics.\n"
     ]
    }
   ],
   "source": [
    "for t in slicerLsstEphs:\n",
    "    bg = mmb.MoMetricBundleGroup({0: peakVBundle[t]}, outDir=outDir, resultsDb=None)\n",
    "    bg.runAll()"
   ]
  },
  {
   "cell_type": "code",
   "execution_count": 79,
   "metadata": {
    "collapsed": false
   },
   "outputs": [
    {
     "name": "stdout",
     "output_type": "stream",
     "text": [
      "At 22.200000 Vmag threshhold, find 0.623578 completeness for H<=22 during 10 years of LSST\n",
      "This compares to 61% completeness calculated using full discovery metric in minion_1016.\n"
     ]
    }
   ],
   "source": [
    "# Find the V mag threshhold corresponding to 25% completeness for H<=22, at the present time.\n",
    "lsstthresh = 22.2\n",
    "comp = calcFrac(peakVBundle['neo'].metricValues, Hrange, lsstthresh)\n",
    "print \"At %f Vmag threshhold, find %f completeness for H<=22 during 10 years of LSST\" % (lsstthresh, comp[Hidx][0])\n",
    "print \"This compares to 61% completeness calculated using full discovery metric in minion_1016.\""
   ]
  },
  {
   "cell_type": "code",
   "execution_count": 80,
   "metadata": {
    "collapsed": true
   },
   "outputs": [],
   "source": [
    "# Calculate peakVMag for the actual observations, just as a double-check\n",
    "lsst_peakVBundle = {}\n",
    "for t in ['pha', 'neo']:\n",
    "    plotDict = {'nxbins': 200, 'nybins': 200,\n",
    "                'title': '%s: %s' % (opsim, t)}\n",
    "    metric = metrics.PeakVMagMetric()\n",
    "    lsst_peakVBundle[t] = mmb.MoMetricBundle(metric, slicer[t], None,\n",
    "                                            runName=opsim, metadata=t,\n",
    "                                            plotDict=plotDict, plotFuncs=plotFuncs)"
   ]
  },
  {
   "cell_type": "code",
   "execution_count": 81,
   "metadata": {
    "collapsed": false
   },
   "outputs": [
    {
     "name": "stdout",
     "output_type": "stream",
     "text": [
      "Running metrics [0]\n",
      "Calculated and saved all metrics.\n",
      "Running metrics [0]\n",
      "Calculated and saved all metrics.\n"
     ]
    }
   ],
   "source": [
    "for t in ['pha', 'neo']:\n",
    "    bg = mmb.MoMetricBundleGroup({0: lsst_peakVBundle[t]}, outDir=outDir, resultsDb=None)\n",
    "    bg.runAll()"
   ]
  },
  {
   "cell_type": "code",
   "execution_count": 82,
   "metadata": {
    "collapsed": false
   },
   "outputs": [
    {
     "data": {
      "image/png": "[encoded data removed]",
      "text/plain": [
       "<matplotlib.figure.Figure at 0x132913250>"
      ]
     },
     "metadata": {},
     "output_type": "display_data"
    }
   ],
   "source": [
    "Hidx = np.where(Hrange == 22)[0]\n",
    "lpha = np.swapaxes(lsst_peakVBundle['pha'].metricValues, 0, 1)[Hidx][0]\n",
    "lneo = np.swapaxes(lsst_peakVBundle['neo'].metricValues, 0, 1)[Hidx][0]\n",
    "\n",
    "plt.figure(figsize=(8, 6))\n",
    "meanV = np.mean(lneo)\n",
    "n, b, p = plt.hist(lneo, bins=150, normed=True, color='b', alpha=0.5, label='NEO: mean %.2f' % meanV)\n",
    "meanV = np.mean(lpha)\n",
    "n, b, p = plt.hist(lpha, bins=b, normed=True, color='r', alpha=0.5, label='PHA: mean %.2f' % meanV)\n",
    "plt.xlim(16, 27)\n",
    "plt.legend(loc='upper left', fontsize='smaller')\n",
    "plt.title('Peak V Mag @ H=22 over 10 year LSST observations')\n",
    "plt.xlabel('Peak V Mag for H=22')\n",
    "plt.ylabel('Fraction of the population')\n",
    "plt.savefig('lsst_peakVmag.pdf')"
   ]
  },
  {
   "cell_type": "code",
   "execution_count": null,
   "metadata": {
    "collapsed": true
   },
   "outputs": [],
   "source": []
  }
 ],
 "metadata": {
  "anaconda-cloud": {},
  "kernelspec": {
   "display_name": "Python [conda root]",
   "language": "python",
   "name": "conda-root-py"
  },
  "language_info": {
   "codemirror_mode": {
    "name": "ipython",
    "version": 2
   },
   "file_extension": ".py",
   "mimetype": "text/x-python",
   "name": "python",
   "nbconvert_exporter": "python",
   "pygments_lexer": "ipython2",
   "version": "2.7.12"
  }
 },
 "nbformat": 4,
 "nbformat_minor": 0
}
